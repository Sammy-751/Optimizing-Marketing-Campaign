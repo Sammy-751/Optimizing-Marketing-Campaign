{
 "cells": [
  {
   "cell_type": "markdown",
   "id": "3b7b9f1d",
   "metadata": {},
   "source": [
    "# Optimizing Market Campaigns: Predicting Term Deposit Subscriptions."
   ]
  },
  {
   "cell_type": "markdown",
   "id": "7adbfc74",
   "metadata": {},
   "source": [
    "## Problem Statement"
   ]
  },
  {
   "cell_type": "markdown",
   "id": "a69d6aec",
   "metadata": {},
   "source": [
    "Although the bank's marketing staff is spending a lot of money phoning customers, term deposit subscription conversion rates are still poor.  To more effectively target potential subscribers, lower campaign expenses, and boost overall marketing effectiveness, it is necessary to determine which client attributes are most linked to a favourable response."
   ]
  },
  {
   "cell_type": "markdown",
   "id": "3fb2314c",
   "metadata": {},
   "source": [
    "## Business Questions"
   ]
  },
  {
   "cell_type": "markdown",
   "id": "c89b62d8",
   "metadata": {},
   "source": [
    "**1. Which customer and campaign features most strongly influence the likelihood of subscription?**\n",
    "- Important client segments can be created by determining important characteristics like age, marital status, education, and type of work.  This makes it possible to create more intelligent campaigns, decrease outreach to consumers who aren't interested, and boost conversion rates. "
   ]
  },
  {
   "cell_type": "markdown",
   "id": "1e6d1dfa",
   "metadata": {},
   "source": [
    "**2. How can we use model predictions to prioritize clients and reduce unnecessary marketing efforts?**\n",
    "- We can more effectively distribute resources (e.g. call centre prioritisation) by ranking consumers by probability rather than just predicting who is likely to subscribe.  This results in a marketing plan that is more flexible and economical."
   ]
  },
  {
   "cell_type": "markdown",
   "id": "23720196",
   "metadata": {},
   "source": [
    "**3. Can we accurately predict which customers are likely to subscribe to a term deposit based on their profile?**\n",
    "- Campaign scheduling, agent scripts, and client preparedness can all be enhanced by knowing trends in the month, previous outcome (poutcome), and call duration."
   ]
  },
  {
   "cell_type": "markdown",
   "id": "43200e12",
   "metadata": {},
   "source": [
    "## Data Cleaning"
   ]
  },
  {
   "cell_type": "code",
   "execution_count": 111,
   "id": "da69e770",
   "metadata": {},
   "outputs": [],
   "source": [
    "#importing vital libraries needed for the project\n",
    "import numpy as np\n",
    "import pandas as pd\n",
    "import matplotlib as mpl\n",
    "import matplotlib.pyplot as plt\n",
    "from sklearn.model_selection import train_test_split\n",
    "from sklearn.tree import DecisionTreeClassifier\n",
    "from sklearn.metrics import roc_curve, auc\n",
    "from sklearn.metrics import accuracy_score, precision_score, recall_score, f1_score, roc_auc_score, confusion_matrix, ConfusionMatrixDisplay\n",
    "plt.style.use('seaborn-v0_8-darkgrid')"
   ]
  },
  {
   "cell_type": "markdown",
   "id": "65072f73",
   "metadata": {},
   "source": [
    "Next we load and inspect the dataset."
   ]
  },
  {
   "cell_type": "code",
   "execution_count": 112,
   "id": "bef8889f",
   "metadata": {},
   "outputs": [
    {
     "data": {
      "text/html": [
       "<div>\n",
       "<style scoped>\n",
       "    .dataframe tbody tr th:only-of-type {\n",
       "        vertical-align: middle;\n",
       "    }\n",
       "\n",
       "    .dataframe tbody tr th {\n",
       "        vertical-align: top;\n",
       "    }\n",
       "\n",
       "    .dataframe thead th {\n",
       "        text-align: right;\n",
       "    }\n",
       "</style>\n",
       "<table border=\"1\" class=\"dataframe\">\n",
       "  <thead>\n",
       "    <tr style=\"text-align: right;\">\n",
       "      <th></th>\n",
       "      <th>age</th>\n",
       "      <th>job</th>\n",
       "      <th>marital</th>\n",
       "      <th>education</th>\n",
       "      <th>default</th>\n",
       "      <th>balance</th>\n",
       "      <th>housing</th>\n",
       "      <th>loan</th>\n",
       "      <th>contact</th>\n",
       "      <th>day</th>\n",
       "      <th>month</th>\n",
       "      <th>duration</th>\n",
       "      <th>campaign</th>\n",
       "      <th>pdays</th>\n",
       "      <th>previous</th>\n",
       "      <th>poutcome</th>\n",
       "      <th>y</th>\n",
       "    </tr>\n",
       "  </thead>\n",
       "  <tbody>\n",
       "    <tr>\n",
       "      <th>0</th>\n",
       "      <td>58</td>\n",
       "      <td>management</td>\n",
       "      <td>married</td>\n",
       "      <td>tertiary</td>\n",
       "      <td>no</td>\n",
       "      <td>2143</td>\n",
       "      <td>yes</td>\n",
       "      <td>no</td>\n",
       "      <td>unknown</td>\n",
       "      <td>5</td>\n",
       "      <td>may</td>\n",
       "      <td>261</td>\n",
       "      <td>1</td>\n",
       "      <td>-1</td>\n",
       "      <td>0</td>\n",
       "      <td>unknown</td>\n",
       "      <td>no</td>\n",
       "    </tr>\n",
       "    <tr>\n",
       "      <th>1</th>\n",
       "      <td>44</td>\n",
       "      <td>technician</td>\n",
       "      <td>single</td>\n",
       "      <td>secondary</td>\n",
       "      <td>no</td>\n",
       "      <td>29</td>\n",
       "      <td>yes</td>\n",
       "      <td>no</td>\n",
       "      <td>unknown</td>\n",
       "      <td>5</td>\n",
       "      <td>may</td>\n",
       "      <td>151</td>\n",
       "      <td>1</td>\n",
       "      <td>-1</td>\n",
       "      <td>0</td>\n",
       "      <td>unknown</td>\n",
       "      <td>no</td>\n",
       "    </tr>\n",
       "    <tr>\n",
       "      <th>2</th>\n",
       "      <td>33</td>\n",
       "      <td>entrepreneur</td>\n",
       "      <td>married</td>\n",
       "      <td>secondary</td>\n",
       "      <td>no</td>\n",
       "      <td>2</td>\n",
       "      <td>yes</td>\n",
       "      <td>yes</td>\n",
       "      <td>unknown</td>\n",
       "      <td>5</td>\n",
       "      <td>may</td>\n",
       "      <td>76</td>\n",
       "      <td>1</td>\n",
       "      <td>-1</td>\n",
       "      <td>0</td>\n",
       "      <td>unknown</td>\n",
       "      <td>no</td>\n",
       "    </tr>\n",
       "    <tr>\n",
       "      <th>3</th>\n",
       "      <td>47</td>\n",
       "      <td>blue-collar</td>\n",
       "      <td>married</td>\n",
       "      <td>unknown</td>\n",
       "      <td>no</td>\n",
       "      <td>1506</td>\n",
       "      <td>yes</td>\n",
       "      <td>no</td>\n",
       "      <td>unknown</td>\n",
       "      <td>5</td>\n",
       "      <td>may</td>\n",
       "      <td>92</td>\n",
       "      <td>1</td>\n",
       "      <td>-1</td>\n",
       "      <td>0</td>\n",
       "      <td>unknown</td>\n",
       "      <td>no</td>\n",
       "    </tr>\n",
       "    <tr>\n",
       "      <th>4</th>\n",
       "      <td>33</td>\n",
       "      <td>unknown</td>\n",
       "      <td>single</td>\n",
       "      <td>unknown</td>\n",
       "      <td>no</td>\n",
       "      <td>1</td>\n",
       "      <td>no</td>\n",
       "      <td>no</td>\n",
       "      <td>unknown</td>\n",
       "      <td>5</td>\n",
       "      <td>may</td>\n",
       "      <td>198</td>\n",
       "      <td>1</td>\n",
       "      <td>-1</td>\n",
       "      <td>0</td>\n",
       "      <td>unknown</td>\n",
       "      <td>no</td>\n",
       "    </tr>\n",
       "    <tr>\n",
       "      <th>...</th>\n",
       "      <td>...</td>\n",
       "      <td>...</td>\n",
       "      <td>...</td>\n",
       "      <td>...</td>\n",
       "      <td>...</td>\n",
       "      <td>...</td>\n",
       "      <td>...</td>\n",
       "      <td>...</td>\n",
       "      <td>...</td>\n",
       "      <td>...</td>\n",
       "      <td>...</td>\n",
       "      <td>...</td>\n",
       "      <td>...</td>\n",
       "      <td>...</td>\n",
       "      <td>...</td>\n",
       "      <td>...</td>\n",
       "      <td>...</td>\n",
       "    </tr>\n",
       "    <tr>\n",
       "      <th>45206</th>\n",
       "      <td>51</td>\n",
       "      <td>technician</td>\n",
       "      <td>married</td>\n",
       "      <td>tertiary</td>\n",
       "      <td>no</td>\n",
       "      <td>825</td>\n",
       "      <td>no</td>\n",
       "      <td>no</td>\n",
       "      <td>cellular</td>\n",
       "      <td>17</td>\n",
       "      <td>nov</td>\n",
       "      <td>977</td>\n",
       "      <td>3</td>\n",
       "      <td>-1</td>\n",
       "      <td>0</td>\n",
       "      <td>unknown</td>\n",
       "      <td>yes</td>\n",
       "    </tr>\n",
       "    <tr>\n",
       "      <th>45207</th>\n",
       "      <td>71</td>\n",
       "      <td>retired</td>\n",
       "      <td>divorced</td>\n",
       "      <td>primary</td>\n",
       "      <td>no</td>\n",
       "      <td>1729</td>\n",
       "      <td>no</td>\n",
       "      <td>no</td>\n",
       "      <td>cellular</td>\n",
       "      <td>17</td>\n",
       "      <td>nov</td>\n",
       "      <td>456</td>\n",
       "      <td>2</td>\n",
       "      <td>-1</td>\n",
       "      <td>0</td>\n",
       "      <td>unknown</td>\n",
       "      <td>yes</td>\n",
       "    </tr>\n",
       "    <tr>\n",
       "      <th>45208</th>\n",
       "      <td>72</td>\n",
       "      <td>retired</td>\n",
       "      <td>married</td>\n",
       "      <td>secondary</td>\n",
       "      <td>no</td>\n",
       "      <td>5715</td>\n",
       "      <td>no</td>\n",
       "      <td>no</td>\n",
       "      <td>cellular</td>\n",
       "      <td>17</td>\n",
       "      <td>nov</td>\n",
       "      <td>1127</td>\n",
       "      <td>5</td>\n",
       "      <td>184</td>\n",
       "      <td>3</td>\n",
       "      <td>success</td>\n",
       "      <td>yes</td>\n",
       "    </tr>\n",
       "    <tr>\n",
       "      <th>45209</th>\n",
       "      <td>57</td>\n",
       "      <td>blue-collar</td>\n",
       "      <td>married</td>\n",
       "      <td>secondary</td>\n",
       "      <td>no</td>\n",
       "      <td>668</td>\n",
       "      <td>no</td>\n",
       "      <td>no</td>\n",
       "      <td>telephone</td>\n",
       "      <td>17</td>\n",
       "      <td>nov</td>\n",
       "      <td>508</td>\n",
       "      <td>4</td>\n",
       "      <td>-1</td>\n",
       "      <td>0</td>\n",
       "      <td>unknown</td>\n",
       "      <td>no</td>\n",
       "    </tr>\n",
       "    <tr>\n",
       "      <th>45210</th>\n",
       "      <td>37</td>\n",
       "      <td>entrepreneur</td>\n",
       "      <td>married</td>\n",
       "      <td>secondary</td>\n",
       "      <td>no</td>\n",
       "      <td>2971</td>\n",
       "      <td>no</td>\n",
       "      <td>no</td>\n",
       "      <td>cellular</td>\n",
       "      <td>17</td>\n",
       "      <td>nov</td>\n",
       "      <td>361</td>\n",
       "      <td>2</td>\n",
       "      <td>188</td>\n",
       "      <td>11</td>\n",
       "      <td>other</td>\n",
       "      <td>no</td>\n",
       "    </tr>\n",
       "  </tbody>\n",
       "</table>\n",
       "<p>45211 rows × 17 columns</p>\n",
       "</div>"
      ],
      "text/plain": [
       "       age           job   marital  education default  balance housing loan  \\\n",
       "0       58    management   married   tertiary      no     2143     yes   no   \n",
       "1       44    technician    single  secondary      no       29     yes   no   \n",
       "2       33  entrepreneur   married  secondary      no        2     yes  yes   \n",
       "3       47   blue-collar   married    unknown      no     1506     yes   no   \n",
       "4       33       unknown    single    unknown      no        1      no   no   \n",
       "...    ...           ...       ...        ...     ...      ...     ...  ...   \n",
       "45206   51    technician   married   tertiary      no      825      no   no   \n",
       "45207   71       retired  divorced    primary      no     1729      no   no   \n",
       "45208   72       retired   married  secondary      no     5715      no   no   \n",
       "45209   57   blue-collar   married  secondary      no      668      no   no   \n",
       "45210   37  entrepreneur   married  secondary      no     2971      no   no   \n",
       "\n",
       "         contact  day month  duration  campaign  pdays  previous poutcome    y  \n",
       "0        unknown    5   may       261         1     -1         0  unknown   no  \n",
       "1        unknown    5   may       151         1     -1         0  unknown   no  \n",
       "2        unknown    5   may        76         1     -1         0  unknown   no  \n",
       "3        unknown    5   may        92         1     -1         0  unknown   no  \n",
       "4        unknown    5   may       198         1     -1         0  unknown   no  \n",
       "...          ...  ...   ...       ...       ...    ...       ...      ...  ...  \n",
       "45206   cellular   17   nov       977         3     -1         0  unknown  yes  \n",
       "45207   cellular   17   nov       456         2     -1         0  unknown  yes  \n",
       "45208   cellular   17   nov      1127         5    184         3  success  yes  \n",
       "45209  telephone   17   nov       508         4     -1         0  unknown   no  \n",
       "45210   cellular   17   nov       361         2    188        11    other   no  \n",
       "\n",
       "[45211 rows x 17 columns]"
      ]
     },
     "execution_count": 112,
     "metadata": {},
     "output_type": "execute_result"
    }
   ],
   "source": [
    "df = pd.read_csv('bank-full.csv',delimiter=';') #';' seperated so we use a delimiter\n",
    "df # print the first five rows"
   ]
  },
  {
   "cell_type": "code",
   "execution_count": 113,
   "id": "d5d5a802",
   "metadata": {},
   "outputs": [
    {
     "name": "stdout",
     "output_type": "stream",
     "text": [
      "<class 'pandas.core.frame.DataFrame'>\n",
      "RangeIndex: 45211 entries, 0 to 45210\n",
      "Data columns (total 17 columns):\n",
      " #   Column     Non-Null Count  Dtype \n",
      "---  ------     --------------  ----- \n",
      " 0   age        45211 non-null  int64 \n",
      " 1   job        45211 non-null  object\n",
      " 2   marital    45211 non-null  object\n",
      " 3   education  45211 non-null  object\n",
      " 4   default    45211 non-null  object\n",
      " 5   balance    45211 non-null  int64 \n",
      " 6   housing    45211 non-null  object\n",
      " 7   loan       45211 non-null  object\n",
      " 8   contact    45211 non-null  object\n",
      " 9   day        45211 non-null  int64 \n",
      " 10  month      45211 non-null  object\n",
      " 11  duration   45211 non-null  int64 \n",
      " 12  campaign   45211 non-null  int64 \n",
      " 13  pdays      45211 non-null  int64 \n",
      " 14  previous   45211 non-null  int64 \n",
      " 15  poutcome   45211 non-null  object\n",
      " 16  y          45211 non-null  object\n",
      "dtypes: int64(7), object(10)\n",
      "memory usage: 5.9+ MB\n"
     ]
    }
   ],
   "source": [
    "df.info() #To check the data types and if we have any missing values."
   ]
  },
  {
   "cell_type": "markdown",
   "id": "199cf94d",
   "metadata": {},
   "source": [
    "We have 7 numerical feactures and 10 objects(categorical/strings)."
   ]
  },
  {
   "cell_type": "code",
   "execution_count": 114,
   "id": "b35fee37",
   "metadata": {},
   "outputs": [
    {
     "data": {
      "text/plain": [
       "<bound method NDFrame.describe of        age           job   marital  education default  balance housing loan  \\\n",
       "0       58    management   married   tertiary      no     2143     yes   no   \n",
       "1       44    technician    single  secondary      no       29     yes   no   \n",
       "2       33  entrepreneur   married  secondary      no        2     yes  yes   \n",
       "3       47   blue-collar   married    unknown      no     1506     yes   no   \n",
       "4       33       unknown    single    unknown      no        1      no   no   \n",
       "...    ...           ...       ...        ...     ...      ...     ...  ...   \n",
       "45206   51    technician   married   tertiary      no      825      no   no   \n",
       "45207   71       retired  divorced    primary      no     1729      no   no   \n",
       "45208   72       retired   married  secondary      no     5715      no   no   \n",
       "45209   57   blue-collar   married  secondary      no      668      no   no   \n",
       "45210   37  entrepreneur   married  secondary      no     2971      no   no   \n",
       "\n",
       "         contact  day month  duration  campaign  pdays  previous poutcome    y  \n",
       "0        unknown    5   may       261         1     -1         0  unknown   no  \n",
       "1        unknown    5   may       151         1     -1         0  unknown   no  \n",
       "2        unknown    5   may        76         1     -1         0  unknown   no  \n",
       "3        unknown    5   may        92         1     -1         0  unknown   no  \n",
       "4        unknown    5   may       198         1     -1         0  unknown   no  \n",
       "...          ...  ...   ...       ...       ...    ...       ...      ...  ...  \n",
       "45206   cellular   17   nov       977         3     -1         0  unknown  yes  \n",
       "45207   cellular   17   nov       456         2     -1         0  unknown  yes  \n",
       "45208   cellular   17   nov      1127         5    184         3  success  yes  \n",
       "45209  telephone   17   nov       508         4     -1         0  unknown   no  \n",
       "45210   cellular   17   nov       361         2    188        11    other   no  \n",
       "\n",
       "[45211 rows x 17 columns]>"
      ]
     },
     "execution_count": 114,
     "metadata": {},
     "output_type": "execute_result"
    }
   ],
   "source": [
    "df.describe #to check for unknowns and NaNs in the dataset overally"
   ]
  },
  {
   "cell_type": "code",
   "execution_count": 115,
   "id": "041b9976",
   "metadata": {},
   "outputs": [
    {
     "data": {
      "text/plain": [
       "count     45211\n",
       "unique        1\n",
       "top       False\n",
       "freq      45211\n",
       "Name: poutcome, dtype: object"
      ]
     },
     "execution_count": 115,
     "metadata": {},
     "output_type": "execute_result"
    }
   ],
   "source": [
    "df['poutcome'].isnull().describe() #our target variable(subscribed or not)"
   ]
  },
  {
   "cell_type": "code",
   "execution_count": 116,
   "id": "cebab28b",
   "metadata": {},
   "outputs": [
    {
     "data": {
      "text/plain": [
       "poutcome\n",
       "unknown    36959\n",
       "failure     4901\n",
       "other       1840\n",
       "success     1511\n",
       "Name: count, dtype: int64"
      ]
     },
     "execution_count": 116,
     "metadata": {},
     "output_type": "execute_result"
    }
   ],
   "source": [
    "df['poutcome'].value_counts()"
   ]
  },
  {
   "cell_type": "code",
   "execution_count": 117,
   "id": "2d0bbcb5",
   "metadata": {},
   "outputs": [
    {
     "data": {
      "text/plain": [
       "job\n",
       "blue-collar      9732\n",
       "management       9458\n",
       "technician       7597\n",
       "admin.           5171\n",
       "services         4154\n",
       "retired          2264\n",
       "self-employed    1579\n",
       "entrepreneur     1487\n",
       "unemployed       1303\n",
       "housemaid        1240\n",
       "student           938\n",
       "unknown           288\n",
       "Name: count, dtype: int64"
      ]
     },
     "execution_count": 117,
     "metadata": {},
     "output_type": "execute_result"
    }
   ],
   "source": [
    "df['job'].value_counts()#check for any unknowns"
   ]
  },
  {
   "cell_type": "code",
   "execution_count": 118,
   "id": "e5a1e8ec",
   "metadata": {},
   "outputs": [],
   "source": [
    "from sklearn.impute import SimpleImputer # import imputer to convert the 'unknowns','nulls'\n",
    "df[['job']] = df[['job']].replace('unknown', np.nan)#replace 'unknown' with nan for the imputer to work\n",
    "imputer = SimpleImputer(strategy='most_frequent') #replacing the NaNs with the most frequent value\n",
    "df[['job']] = imputer.fit_transform(df[['job']])#passing all the columns to impute all at once\n"
   ]
  },
  {
   "cell_type": "code",
   "execution_count": 119,
   "id": "4e8bc7d1",
   "metadata": {},
   "outputs": [
    {
     "data": {
      "text/plain": [
       "job\n",
       "blue-collar      10020\n",
       "management        9458\n",
       "technician        7597\n",
       "admin.            5171\n",
       "services          4154\n",
       "retired           2264\n",
       "self-employed     1579\n",
       "entrepreneur      1487\n",
       "unemployed        1303\n",
       "housemaid         1240\n",
       "student            938\n",
       "Name: count, dtype: int64"
      ]
     },
     "execution_count": 119,
     "metadata": {},
     "output_type": "execute_result"
    }
   ],
   "source": [
    "df['job'].value_counts()"
   ]
  },
  {
   "cell_type": "code",
   "execution_count": 120,
   "id": "256679e3",
   "metadata": {},
   "outputs": [],
   "source": [
    "df[['education']] = df[['education']].replace('unknown', np.nan)\n",
    "\n",
    "imputer = SimpleImputer(strategy='most_frequent') #replacing the NaNs with the most frequent value\n",
    "df[['education']] = imputer.fit_transform(df[['education']])"
   ]
  },
  {
   "cell_type": "code",
   "execution_count": 121,
   "id": "5067b4ee",
   "metadata": {},
   "outputs": [
    {
     "data": {
      "text/plain": [
       "array(['no', 'yes'], dtype=object)"
      ]
     },
     "execution_count": 121,
     "metadata": {},
     "output_type": "execute_result"
    }
   ],
   "source": [
    "df['loan'].unique()#to be encoded "
   ]
  },
  {
   "cell_type": "code",
   "execution_count": 122,
   "id": "b362a100",
   "metadata": {},
   "outputs": [
    {
     "data": {
      "text/plain": [
       "array([58, 44, 33, 47, 35, 28, 42, 43, 41, 29, 53, 57, 51, 45, 60, 56, 32,\n",
       "       25, 40, 39, 52, 46, 36, 49, 59, 37, 50, 54, 55, 48, 24, 38, 31, 30,\n",
       "       27, 34, 23, 26, 61, 22, 21, 20, 66, 62, 83, 75, 67, 70, 65, 68, 64,\n",
       "       69, 72, 71, 19, 76, 85, 63, 90, 82, 73, 74, 78, 80, 94, 79, 77, 86,\n",
       "       95, 81, 18, 89, 84, 87, 92, 93, 88], dtype=int64)"
      ]
     },
     "execution_count": 122,
     "metadata": {},
     "output_type": "execute_result"
    }
   ],
   "source": [
    "df['age'].unique() #have no nans or unknowns , scale for logistic regression"
   ]
  },
  {
   "cell_type": "code",
   "execution_count": 123,
   "id": "216f38e4",
   "metadata": {},
   "outputs": [
    {
     "data": {
      "text/plain": [
       "array([  0,   3,   1,   4,   2,  11,  16,   6,   5,  10,  12,   7,  18,\n",
       "         9,  21,   8,  14,  15,  26,  37,  13,  25,  20,  27,  17,  23,\n",
       "        38,  29,  24,  51, 275,  22,  19,  30,  58,  28,  32,  40,  55,\n",
       "        35,  41], dtype=int64)"
      ]
     },
     "execution_count": 123,
     "metadata": {},
     "output_type": "execute_result"
    }
   ],
   "source": [
    "df['previous'].unique()"
   ]
  },
  {
   "cell_type": "code",
   "execution_count": 124,
   "id": "d1802eba",
   "metadata": {},
   "outputs": [
    {
     "data": {
      "text/plain": [
       "array(['Monday', 'Tuesday', 'Wednesday', 'Thursday', 'Friday', 'Saturday',\n",
       "       'Sunday'], dtype=object)"
      ]
     },
     "execution_count": 124,
     "metadata": {},
     "output_type": "execute_result"
    }
   ],
   "source": [
    "df['date'] = pd.to_datetime(df['day'].astype(str) + '-' + df['month'] + '-2025', format='%d-%b-%Y')#convert the day to date and month, add a dummy year\n",
    "df['day_of_week'] = df['date'].dt.day_name() #extract day of week(name)\n",
    "df.drop('date',axis=1, inplace=True)#drop the dummy date column\n",
    "df['day_of_week'].unique()"
   ]
  },
  {
   "cell_type": "code",
   "execution_count": 125,
   "id": "cdd46383",
   "metadata": {},
   "outputs": [],
   "source": [
    "#pdays is number of days since contacted but has -1 as no previous contact\n",
    "df['was_previously_contacted'] = df['pdays'].apply(lambda x: 0 if x == -1 else 1) #create a new column, contacted or not\n",
    "df['days_since_contact'] = df['pdays'].apply(lambda x: x if x != -1 else 0) #new column and convert the -1 to 0\n",
    "\n",
    "\n",
    "df = df.drop('pdays', axis=1)"
   ]
  },
  {
   "cell_type": "code",
   "execution_count": 126,
   "id": "a64e3698",
   "metadata": {},
   "outputs": [
    {
     "data": {
      "text/html": [
       "<div>\n",
       "<style scoped>\n",
       "    .dataframe tbody tr th:only-of-type {\n",
       "        vertical-align: middle;\n",
       "    }\n",
       "\n",
       "    .dataframe tbody tr th {\n",
       "        vertical-align: top;\n",
       "    }\n",
       "\n",
       "    .dataframe thead th {\n",
       "        text-align: right;\n",
       "    }\n",
       "</style>\n",
       "<table border=\"1\" class=\"dataframe\">\n",
       "  <thead>\n",
       "    <tr style=\"text-align: right;\">\n",
       "      <th></th>\n",
       "      <th>age</th>\n",
       "      <th>job</th>\n",
       "      <th>marital</th>\n",
       "      <th>education</th>\n",
       "      <th>default</th>\n",
       "      <th>balance</th>\n",
       "      <th>housing</th>\n",
       "      <th>loan</th>\n",
       "      <th>contact</th>\n",
       "      <th>day</th>\n",
       "      <th>month</th>\n",
       "      <th>duration</th>\n",
       "      <th>campaign</th>\n",
       "      <th>previous</th>\n",
       "      <th>poutcome</th>\n",
       "      <th>y</th>\n",
       "      <th>day_of_week</th>\n",
       "      <th>was_previously_contacted</th>\n",
       "      <th>days_since_contact</th>\n",
       "    </tr>\n",
       "  </thead>\n",
       "  <tbody>\n",
       "    <tr>\n",
       "      <th>0</th>\n",
       "      <td>58</td>\n",
       "      <td>management</td>\n",
       "      <td>married</td>\n",
       "      <td>tertiary</td>\n",
       "      <td>no</td>\n",
       "      <td>2143</td>\n",
       "      <td>yes</td>\n",
       "      <td>no</td>\n",
       "      <td>unknown</td>\n",
       "      <td>5</td>\n",
       "      <td>may</td>\n",
       "      <td>261</td>\n",
       "      <td>1</td>\n",
       "      <td>0</td>\n",
       "      <td>unknown</td>\n",
       "      <td>no</td>\n",
       "      <td>Monday</td>\n",
       "      <td>0</td>\n",
       "      <td>0</td>\n",
       "    </tr>\n",
       "    <tr>\n",
       "      <th>1</th>\n",
       "      <td>44</td>\n",
       "      <td>technician</td>\n",
       "      <td>single</td>\n",
       "      <td>secondary</td>\n",
       "      <td>no</td>\n",
       "      <td>29</td>\n",
       "      <td>yes</td>\n",
       "      <td>no</td>\n",
       "      <td>unknown</td>\n",
       "      <td>5</td>\n",
       "      <td>may</td>\n",
       "      <td>151</td>\n",
       "      <td>1</td>\n",
       "      <td>0</td>\n",
       "      <td>unknown</td>\n",
       "      <td>no</td>\n",
       "      <td>Monday</td>\n",
       "      <td>0</td>\n",
       "      <td>0</td>\n",
       "    </tr>\n",
       "    <tr>\n",
       "      <th>2</th>\n",
       "      <td>33</td>\n",
       "      <td>entrepreneur</td>\n",
       "      <td>married</td>\n",
       "      <td>secondary</td>\n",
       "      <td>no</td>\n",
       "      <td>2</td>\n",
       "      <td>yes</td>\n",
       "      <td>yes</td>\n",
       "      <td>unknown</td>\n",
       "      <td>5</td>\n",
       "      <td>may</td>\n",
       "      <td>76</td>\n",
       "      <td>1</td>\n",
       "      <td>0</td>\n",
       "      <td>unknown</td>\n",
       "      <td>no</td>\n",
       "      <td>Monday</td>\n",
       "      <td>0</td>\n",
       "      <td>0</td>\n",
       "    </tr>\n",
       "    <tr>\n",
       "      <th>3</th>\n",
       "      <td>47</td>\n",
       "      <td>blue-collar</td>\n",
       "      <td>married</td>\n",
       "      <td>secondary</td>\n",
       "      <td>no</td>\n",
       "      <td>1506</td>\n",
       "      <td>yes</td>\n",
       "      <td>no</td>\n",
       "      <td>unknown</td>\n",
       "      <td>5</td>\n",
       "      <td>may</td>\n",
       "      <td>92</td>\n",
       "      <td>1</td>\n",
       "      <td>0</td>\n",
       "      <td>unknown</td>\n",
       "      <td>no</td>\n",
       "      <td>Monday</td>\n",
       "      <td>0</td>\n",
       "      <td>0</td>\n",
       "    </tr>\n",
       "    <tr>\n",
       "      <th>4</th>\n",
       "      <td>33</td>\n",
       "      <td>blue-collar</td>\n",
       "      <td>single</td>\n",
       "      <td>secondary</td>\n",
       "      <td>no</td>\n",
       "      <td>1</td>\n",
       "      <td>no</td>\n",
       "      <td>no</td>\n",
       "      <td>unknown</td>\n",
       "      <td>5</td>\n",
       "      <td>may</td>\n",
       "      <td>198</td>\n",
       "      <td>1</td>\n",
       "      <td>0</td>\n",
       "      <td>unknown</td>\n",
       "      <td>no</td>\n",
       "      <td>Monday</td>\n",
       "      <td>0</td>\n",
       "      <td>0</td>\n",
       "    </tr>\n",
       "  </tbody>\n",
       "</table>\n",
       "</div>"
      ],
      "text/plain": [
       "   age           job  marital  education default  balance housing loan  \\\n",
       "0   58    management  married   tertiary      no     2143     yes   no   \n",
       "1   44    technician   single  secondary      no       29     yes   no   \n",
       "2   33  entrepreneur  married  secondary      no        2     yes  yes   \n",
       "3   47   blue-collar  married  secondary      no     1506     yes   no   \n",
       "4   33   blue-collar   single  secondary      no        1      no   no   \n",
       "\n",
       "   contact  day month  duration  campaign  previous poutcome   y day_of_week  \\\n",
       "0  unknown    5   may       261         1         0  unknown  no      Monday   \n",
       "1  unknown    5   may       151         1         0  unknown  no      Monday   \n",
       "2  unknown    5   may        76         1         0  unknown  no      Monday   \n",
       "3  unknown    5   may        92         1         0  unknown  no      Monday   \n",
       "4  unknown    5   may       198         1         0  unknown  no      Monday   \n",
       "\n",
       "   was_previously_contacted  days_since_contact  \n",
       "0                         0                   0  \n",
       "1                         0                   0  \n",
       "2                         0                   0  \n",
       "3                         0                   0  \n",
       "4                         0                   0  "
      ]
     },
     "execution_count": 126,
     "metadata": {},
     "output_type": "execute_result"
    }
   ],
   "source": [
    "df.head()"
   ]
  },
  {
   "cell_type": "code",
   "execution_count": 127,
   "id": "f32e1e9f",
   "metadata": {},
   "outputs": [
    {
     "data": {
      "text/plain": [
       "array([  0,   3,   1,   4,   2,  11,  16,   6,   5,  10,  12,   7,  18,\n",
       "         9,  21,   8,  14,  15,  26,  37,  13,  25,  20,  27,  17,  23,\n",
       "        38,  29,  24,  51, 275,  22,  19,  30,  58,  28,  32,  40,  55,\n",
       "        35,  41], dtype=int64)"
      ]
     },
     "execution_count": 127,
     "metadata": {},
     "output_type": "execute_result"
    }
   ],
   "source": [
    "df['previous'].unique()"
   ]
  },
  {
   "cell_type": "markdown",
   "id": "838c8d1f",
   "metadata": {},
   "source": [
    "## Exploratory Data Analysis"
   ]
  },
  {
   "cell_type": "code",
   "execution_count": 128,
   "id": "b512a2e1",
   "metadata": {},
   "outputs": [
    {
     "data": {
      "text/plain": [
       "y\n",
       "no     39922\n",
       "yes     5289\n",
       "Name: count, dtype: int64"
      ]
     },
     "execution_count": 128,
     "metadata": {},
     "output_type": "execute_result"
    }
   ],
   "source": [
    "#analyze imblance in the predicted variable\n",
    "df['y'].value_counts()"
   ]
  },
  {
   "cell_type": "markdown",
   "id": "9d585ff8",
   "metadata": {},
   "source": [
    "Has a huge class imbalance between the subscribers and non-subscribers.  \n",
    "To visually inspect the distribution "
   ]
  },
  {
   "cell_type": "code",
   "execution_count": 129,
   "id": "00e67a77",
   "metadata": {},
   "outputs": [
    {
     "data": {
      "image/png": "[encoded data removed]",
      "text/plain": [
       "<Figure size 640x480 with 1 Axes>"
      ]
     },
     "metadata": {},
     "output_type": "display_data"
    }
   ],
   "source": [
    "df['y'].value_counts(normalize=True).plot(kind='bar', color=['salmon', 'skyblue'])\n",
    "plt.title('Overall Subscription Distribution')\n",
    "plt.ylabel('Proportion')\n",
    "plt.xticks(rotation=0)\n",
    "plt.show()\n"
   ]
  },
  {
   "cell_type": "markdown",
   "id": "726bd79d",
   "metadata": {},
   "source": [
    "- From the graph, there's about 88% chance of people not subscribing and about 12% chance rate of clients subscribing. \n",
    " \n",
    "- We'll visualize a few features and see the different subscription rates."
   ]
  },
  {
   "cell_type": "markdown",
   "id": "5c8e4b41",
   "metadata": {},
   "source": [
    "**Job Distribution by Subscribers**"
   ]
  },
  {
   "cell_type": "markdown",
   "id": "d0fa63d7",
   "metadata": {},
   "source": [
    "Helps the marketing department to be able to narrow down which job groups they ought to pay more attention to during the campaign."
   ]
  },
  {
   "cell_type": "code",
   "execution_count": 130,
   "id": "c838c80a",
   "metadata": {},
   "outputs": [
    {
     "data": {
      "image/png": "[encoded data removed]",
      "text/plain": [
       "<Figure size 1000x500 with 1 Axes>"
      ]
     },
     "metadata": {},
     "output_type": "display_data"
    }
   ],
   "source": [
    "#comapare subscriber vs non-subscriber distribution\n",
    "subscriber_df = df[df['y'] == 'yes']\n",
    "nonsubscriber_df = df[df['y'] == 'no']\n",
    "#to compare job distribution subscrition rate\n",
    "job_counts = pd.crosstab(df['job'], df['y'], normalize='index') * 100\n",
    "job_counts['yes'].plot(kind='bar', stacked=True,figsize=(10,5), colormap='Set2')\n",
    "plt.title('Job Distribution by Subscribers')\n",
    "plt.ylabel('% of Clients in Each Job')\n",
    "plt.xticks(rotation=45)\n",
    "plt.legend(title='Subscription', loc='upper left', bbox_to_anchor=(1.02, 1))\n",
    "plt.show()"
   ]
  },
  {
   "cell_type": "markdown",
   "id": "28dec298",
   "metadata": {},
   "source": [
    "- From the graph we can see that Students have a higher rate of  subscribing followed by the retired, unemployed and management job groups.   \n",
    "- On the other hand, blue-collar jobs , entreprenuers , housemaids and services jobs have the highest rates of not subscribing.  \n",
    "\n",
    "- The marketing department may focus more on students, retirees, unemployed and management than the other job groups."
   ]
  },
  {
   "cell_type": "markdown",
   "id": "7dc3d4bb",
   "metadata": {},
   "source": [
    "**Education Level by Subscription Status**"
   ]
  },
  {
   "cell_type": "markdown",
   "id": "1f266957",
   "metadata": {},
   "source": [
    "This helps in reducing the clients that are likely to subscribe to the deposits based on their level of eduaction."
   ]
  },
  {
   "cell_type": "code",
   "execution_count": 131,
   "id": "af2a5535",
   "metadata": {},
   "outputs": [
    {
     "data": {
      "image/png": "[encoded data removed]",
      "text/plain": [
       "<Figure size 1000x500 with 1 Axes>"
      ]
     },
     "metadata": {},
     "output_type": "display_data"
    }
   ],
   "source": [
    "education_counts = pd.crosstab(df['education'], df['y'], normalize='index') * 100\n",
    "education_counts['yes'].plot(kind='bar', stacked=True,figsize=(10,5), colormap='Accent')\n",
    "plt.title('Education Distribution by Subscription Status')\n",
    "plt.ylabel('% of Clients per Education Level')\n",
    "plt.xticks(rotation=45)\n",
    "plt.legend(title='Subscription', loc='upper left', bbox_to_anchor=(1.02, 1))\n",
    "plt.show()"
   ]
  },
  {
   "cell_type": "markdown",
   "id": "a2878eb5",
   "metadata": {},
   "source": [
    "- The graph shows that tertiary has the highest rate of subscription of the education level .\n",
    "- Primary education level having the lowest subscription rate followed by Secondary School level.\n",
    "- The main focus of the marketing calls should target tertiary level education."
   ]
  },
  {
   "cell_type": "markdown",
   "id": "eaa35c54",
   "metadata": {},
   "source": [
    "**Subscriber rate by Month**"
   ]
  },
  {
   "cell_type": "markdown",
   "id": "65cce4f1",
   "metadata": {},
   "source": [
    "Helps the department to know which months are suitable to conduct the campaigns saving on time wasted and to save energy with zero returns."
   ]
  },
  {
   "cell_type": "code",
   "execution_count": 132,
   "id": "9efa9a73",
   "metadata": {},
   "outputs": [
    {
     "data": {
      "image/png": "[encoded data removed]",
      "text/plain": [
       "<Figure size 1000x500 with 1 Axes>"
      ]
     },
     "metadata": {},
     "output_type": "display_data"
    }
   ],
   "source": [
    "#distribution of subscribers by month\n",
    "month_order = ['jan', 'feb', 'mar', 'apr', 'may', 'jun', \n",
    "               'jul', 'aug', 'sep', 'oct', 'nov', 'dec']\n",
    "#convert month column to categorical in the above order\n",
    "df['month'] = pd.Categorical(df['month'], categories=month_order, ordered=True)\n",
    "\n",
    "month_dist = pd.crosstab(df['month'], df['y'], normalize='index') * 100 #converts the counts to percentage\n",
    "month_dist['yes'].plot(kind='line', figsize=(10,5), color='green', marker='o')#marks the months with painted dots\n",
    "plt.title('Subscriber Rate by Month')\n",
    "plt.ylabel('% Subscribers')\n",
    "plt.xlabel('Month')\n",
    "plt.xticks(rotation=45)\n",
    "plt.ylim(0, 100)\n",
    "plt.grid(True)\n",
    "plt.tight_layout()\n",
    "plt.legend()\n",
    "plt.show()\n"
   ]
  },
  {
   "cell_type": "markdown",
   "id": "207656a3",
   "metadata": {},
   "source": [
    "- From the graph, March, September, October and December record the highest percenatge of subscriptions.  \n",
    "\n",
    "- While the least number of subscriptions are recorded during January, and from May to August, then shifting to November.  \n",
    "\n",
    "- The grapgh indicates the months that the marketing team ought to target calling the customers avoiding the months with least   subscribers."
   ]
  },
  {
   "cell_type": "markdown",
   "id": "e7848590",
   "metadata": {},
   "source": [
    "**Subscription rate by Day of Week**"
   ]
  },
  {
   "cell_type": "markdown",
   "id": "25fdf3df",
   "metadata": {},
   "source": [
    "This will help indicate the days of the week that has the highest records of subscriptions thus reducing the\n",
    "  \n",
    "cost of making calls throughout the week."
   ]
  },
  {
   "cell_type": "code",
   "execution_count": 133,
   "id": "61c02c31",
   "metadata": {},
   "outputs": [
    {
     "data": {
      "image/png": "[encoded data removed]",
      "text/plain": [
       "<Figure size 800x500 with 1 Axes>"
      ]
     },
     "metadata": {},
     "output_type": "display_data"
    }
   ],
   "source": [
    "day_order = ['Monday', 'Tuesday', 'Wednesday', 'Thursday', 'Friday', 'Saturday', 'Sunday'] #correct order for weekdays\n",
    "# Convert the 'day_of_week' column to a categorical type with the defined order\n",
    "df['day_of_week'] = pd.Categorical(df['day_of_week'], categories=day_order, ordered=True)\n",
    "\n",
    "day_dist = pd.crosstab(df['day_of_week'], df['y'], normalize='index') * 100 #normalize to get percentage of 'yes' per day\n",
    "day_dist['yes'].plot(kind='line', color='teal', marker='D', figsize=(8, 5)) #Plot the percentage of subscribers\n",
    "\n",
    "plt.title('Subscription Rate by Day of the Week')\n",
    "plt.ylabel('% Subscribers')\n",
    "plt.xlabel('Day of Week')\n",
    "plt.xticks(rotation=45)\n",
    "plt.ylim(0, 100)\n",
    "plt.grid(True)\n",
    "plt.legend()\n",
    "plt.tight_layout()\n",
    "plt.show()\n"
   ]
  },
  {
   "cell_type": "markdown",
   "id": "ebfe87ca",
   "metadata": {},
   "source": [
    "- From the graph , the rate of subscription is constant throughout the week till a dip on Friday. \n",
    "   \n",
    "- The rate spikes up on Saturdays and decreases abit on Sunnday.  \n",
    "\n",
    "- The graph indicates that calls ought to made more during weekends as it has the highest rate of subscriptions."
   ]
  },
  {
   "cell_type": "code",
   "execution_count": 134,
   "id": "c2774fe6",
   "metadata": {},
   "outputs": [],
   "source": [
    "#create a copy to carry out a one-way ANOVA test and also a Chi-squatre test\n",
    "df_copy = df.copy()"
   ]
  },
  {
   "cell_type": "code",
   "execution_count": 135,
   "id": "80477f6c",
   "metadata": {},
   "outputs": [
    {
     "name": "stdout",
     "output_type": "stream",
     "text": [
      "ANOVA for job:\n",
      "                sum_sq       df          F         PR(>F)\n",
      "C(job)      85.794998     10.0  84.588446  1.297541e-173\n",
      "Residual  4584.472370  45200.0        NaN            NaN\n",
      "\n",
      "ANOVA for education:\n",
      "                    sum_sq       df           F        PR(>F)\n",
      "C(education)    23.121994      2.0  112.466796  1.894092e-49\n",
      "Residual      4647.145375  45208.0         NaN           NaN\n"
     ]
    }
   ],
   "source": [
    "#import libraries\n",
    "import statsmodels.api as sm\n",
    "from statsmodels.formula.api import ols\n",
    "#start by carrying out ANOVA test\n",
    "df_copy['y'] = df_copy['y'].map({'no': 0, 'yes': 1})# change to numeric (0/1)\n",
    "\n",
    "#conduct the test on job and eduacation features/ categories\n",
    "model_job = ols('y ~ C(job)', data=df_copy).fit() #job\n",
    "anova_job = sm.stats.anova_lm(model_job, typ=2)\n",
    "\n",
    "model_edu = ols('y ~ C(education)', data=df_copy).fit()#education\n",
    "anova_edu = sm.stats.anova_lm(model_edu, typ=2)\n",
    "\n",
    "print(\"ANOVA for job:\\n\", anova_job)\n",
    "print(\"\\nANOVA for education:\\n\", anova_edu)"
   ]
  },
  {
   "cell_type": "markdown",
   "id": "14b0063a",
   "metadata": {},
   "source": [
    "- **job** - - has a f(p-value ) of 1.297541e-173 which is approaching 0.0 and less than 0.05. This indicates that job categories  \n",
    "  \n",
    "  affect the subscription rate. Job type affects the likelihood of subscribing to the term deposit campaign.  \n",
    "\n",
    "- The F-statistic is also quite high, further supporting the strong difference between job groups\n",
    "\n"
   ]
  },
  {
   "cell_type": "markdown",
   "id": "f8d850f8",
   "metadata": {},
   "source": [
    "- **Education** - - the p-value is near zero (1.197579e-51), indicating significant differences in subscription rates across education \n",
    "\n",
    "   levels.\n",
    "\n",
    "- This indicates that Education level is also significantly associated with the likelihood of subscription.\n",
    "\n",
    "- The F-statistic is also quite high, further supporting the strong difference between Education level.\n"
   ]
  },
  {
   "cell_type": "code",
   "execution_count": 136,
   "id": "ddaf1241",
   "metadata": {},
   "outputs": [
    {
     "name": "stdout",
     "output_type": "stream",
     "text": [
      "Chi-square statistic: 4391.5065887686615\n",
      "Degrees of freedom: 3\n",
      "p-value: 0.0\n"
     ]
    }
   ],
   "source": [
    "#run a chi_square for inference\n",
    "from scipy.stats import chi2_contingency\n",
    "#checking for previous outcomes and target variable\n",
    "contingency = pd.crosstab(df_copy['poutcome'], df_copy['y'])#contingency table\n",
    "chi2, p, dof, expected = chi2_contingency(contingency)#chi-square test\n",
    "\n",
    "print(\"Chi-square statistic:\", chi2)#print the ochi-square, degrees of freedom(k-1), and p-value\n",
    "print(\"Degrees of freedom:\", dof)\n",
    "print(\"p-value:\", p)"
   ]
  },
  {
   "cell_type": "markdown",
   "id": "96e05898",
   "metadata": {},
   "source": [
    "- **Chi-square statistic: 4391.5065887686615** -- this big Chi-Square value indicates that there's a huge difference between the \n",
    " observed and expected values in the 'poutcome' × 'y' table.  \n",
    "\n",
    "- **p-value: 0.0** -- less than (0.05). This means that there is an extremely strong, statistically significant association between  \n",
    " 'poutcome' and 'y'.\n",
    "\n",
    "- The outcome of the previous campaign (poutcome) has a major influence on whether a customer subscribes to the term deposit (y)."
   ]
  },
  {
   "cell_type": "code",
   "execution_count": 137,
   "id": "0117a188",
   "metadata": {},
   "outputs": [
    {
     "name": "stdout",
     "output_type": "stream",
     "text": [
      "               age  campaign         y\n",
      "age       1.000000  0.004760  0.025155\n",
      "campaign  0.004760  1.000000 -0.073172\n",
      "y         0.025155 -0.073172  1.000000\n"
     ]
    }
   ],
   "source": [
    "#come up with a correlation matrix to show the relationship between the continuous variables in the dataset to the target\n",
    "correlation_matrix = df_copy[['age', 'campaign', 'y']].corr()\n",
    "#print out the matrix\n",
    "print(correlation_matrix)"
   ]
  },
  {
   "cell_type": "markdown",
   "id": "f02315a9",
   "metadata": {},
   "source": [
    "- **age vs y = 0.025** - - Signifies a very weak positive correlation. Meaning age has almost no linear relationship with subscription.\n",
    "   Though non-linear relationships might still exist.\n",
    "\n",
    "- **campaign vs y = -0.073** - - Indicates that there is a very weak negative correlation; Slightly suggests that more contacts \n",
    "    may reduce the chance of subscription.Though could still be important in non-linear models (trees), but linear effect is weak.  \n",
    "\n",
    "- **age vs campaign = 0.0047** - - The output is very small; indicating that there's no meaningful relationship between a person’s  \n",
    "    age and how many times they were contacted."
   ]
  },
  {
   "cell_type": "markdown",
   "id": "abca0d6b",
   "metadata": {},
   "source": [
    "## 1. Which customer and campaign features most strongly influence the likelihood of subscription?"
   ]
  },
  {
   "cell_type": "markdown",
   "id": "fbfc07b6",
   "metadata": {},
   "source": [
    "- Here, we'll use probability scores to create a ranked list of prospects, not just (yes/no)."
   ]
  },
  {
   "cell_type": "markdown",
   "id": "d1f78706",
   "metadata": {},
   "source": [
    "**Group the data to predicted and predictor**"
   ]
  },
  {
   "cell_type": "code",
   "execution_count": 138,
   "id": "21fbb4e7",
   "metadata": {},
   "outputs": [],
   "source": [
    "#grouping the data into predicted and predictors for splitting\n",
    "y = df['y']\n",
    "x = df.drop(columns=['y', 'contact'], axis=1)"
   ]
  },
  {
   "cell_type": "markdown",
   "id": "9a965f02",
   "metadata": {},
   "source": [
    "We split the data next."
   ]
  },
  {
   "cell_type": "markdown",
   "id": "f008989f",
   "metadata": {},
   "source": [
    "There is an imbalance between the non-subscribers and subscribers. We'll use SMOTE to balance the outcome.  \n",
    "But we start by splitting the data to prevent leakage into the model."
   ]
  },
  {
   "cell_type": "code",
   "execution_count": 139,
   "id": "1ada97ff",
   "metadata": {},
   "outputs": [],
   "source": [
    "#train test_split the data first to avoid data leakeage to our model\n",
    "x_train,x_test,y_train,y_test = train_test_split(x,y, test_size=0.3, random_state=42)"
   ]
  },
  {
   "cell_type": "code",
   "execution_count": 140,
   "id": "ef01385d",
   "metadata": {},
   "outputs": [],
   "source": [
    "#scaling continuous features\n",
    "from sklearn.preprocessing import StandardScaler\n",
    "scaler = StandardScaler()\n",
    "columns_scale =['age','balance','duration','campaign','day','days_since_contact']\n",
    "new_scale_names = [col + '_scaled' for col in columns_scale]\n",
    "#fit and transform the train dataset\n",
    "x_train_scaled = pd.DataFrame(scaler.fit_transform(x_train[columns_scale]),columns=new_scale_names, index=x_train.index)\n",
    "#only transform the test dataset\n",
    "x_test_scaled = pd.DataFrame(scaler.transform(x_test[columns_scale]),columns=new_scale_names, index=x_test.index)\n"
   ]
  },
  {
   "cell_type": "code",
   "execution_count": 141,
   "id": "f2d32d08",
   "metadata": {},
   "outputs": [],
   "source": [
    "#import labelencoder.\n",
    "from sklearn.preprocessing import LabelEncoder\n",
    "le = LabelEncoder()\n",
    "label_cols = ['loan', 'default', 'housing']\n",
    "label_cols_names = [col + '_lencoded' for col in label_cols]\n",
    "#fit and transform train data (initiate the dataframes first)\n",
    "x_train_lencoded = pd.DataFrame(index=x_train.index)\n",
    "#transform the test data (initiate the dataframes first)\n",
    "x_test_lencoded = pd.DataFrame(index=x_test.index)\n",
    "#Apply encoder per column \n",
    "\n",
    "for col, new_col in zip(label_cols, label_cols_names):\n",
    "    le = LabelEncoder()\n",
    "    x_train_lencoded[new_col] = le.fit_transform(x_train[col])\n",
    "    x_test_lencoded[new_col] = le.transform(x_test[col])\n",
    "#fit and transform the target train and transform test only\n",
    "target_le = LabelEncoder()\n",
    "y_train = target_le.fit_transform(y_train)\n",
    "y_test = target_le.transform(y_test)"
   ]
  },
  {
   "cell_type": "code",
   "execution_count": 142,
   "id": "94228f9f",
   "metadata": {},
   "outputs": [],
   "source": [
    "\n",
    "#One-Hot Encode the categorical columns\n",
    "from sklearn.preprocessing import OneHotEncoder\n",
    "ohe = OneHotEncoder(drop= 'first', sparse_output=False)\n",
    "cat_columns = ['job','marital','education', 'month','day_of_week','poutcome']\n",
    "\n",
    "#fit and transform train set\n",
    "x_train_ohe = pd.DataFrame(ohe.fit_transform(x_train[cat_columns]),columns=ohe.get_feature_names_out(cat_columns),index=x_train.index)\n",
    "\n",
    "#only transform the test set\n",
    "x_test_ohe = pd.DataFrame(ohe.transform(x_test[cat_columns]),columns=ohe.get_feature_names_out(cat_columns),index=x_test.index)\n",
    "\n"
   ]
  },
  {
   "cell_type": "markdown",
   "id": "f42f0f50",
   "metadata": {},
   "source": [
    "**Combining Processed Features**"
   ]
  },
  {
   "cell_type": "code",
   "execution_count": 143,
   "id": "37220a7a",
   "metadata": {},
   "outputs": [],
   "source": [
    "#Drop origiinal columns that were transformed from the training and test sets\n",
    "cols_to_drop = cat_columns + label_cols + columns_scale\n",
    "x_train = x_train.drop(columns = cols_to_drop)\n",
    "x_test = x_test.drop(columns = cols_to_drop)\n",
    "\n",
    "#combine all processed features\n",
    "x_train_processed = pd.concat([x_train,x_train_lencoded,x_train_scaled,x_train_ohe],axis=1)\n",
    "x_test_processed = pd.concat([x_test, x_test_lencoded,x_test_scaled, x_test_ohe],axis=1)\n"
   ]
  },
  {
   "cell_type": "markdown",
   "id": "44649887-296b-42b2-a9b0-9546a59a3f02",
   "metadata": {},
   "source": [
    "## Why Use Machine Learning Instead of Simpler Analysis?"
   ]
  },
  {
   "cell_type": "markdown",
   "id": "754179d0-c397-47f6-9175-08b0b0e8994c",
   "metadata": {},
   "source": [
    "Simple descriptive statistics (like crosstabs or bar charts) show past trends — such as which months or job types had higher conversion rates. But they cannot predict what will happen with new, unseen customers. For a marketing team that wants to make targeted, cost-effective decisions, that’s not enough.\n",
    "\n",
    "We use machine learning, specifically classification models, because they can:\n",
    "\n",
    "- Predict future outcomes, not just describe past ones\n",
    "\n",
    "- Learn from patterns in dozens of features at once (e.g., age, duration, contact method)\n",
    "\n",
    "- Assign probabilities to each customer, helping prioritize outreach\n",
    "\n",
    "## Why Is This a Good Fit for Machine Learning?\n",
    "\n",
    "- The problem is binary classification: will a customer subscribe (\"yes\") or not (\"no\")?\n",
    "\n",
    "- The data contains many structured variables (e.g., contact month, job, balance) that interact in complex ways.\n",
    "\n",
    "- There's a large amount of data (~40k observations), which allows models to generalize well.\n",
    "\n",
    "- The target event is imbalanced, and we want to capture the rare “yes” cases — something ML models like logistic regression and     decision trees are good at optimizing for (e.g., using ROC AUC instead of just accuracy).\n",
    "\n",
    "Machine learning helps us make smarter outreach decisions. It tells us who is most likely to subscribe so that we don’t waste resources on customers who probably won’t convert.\n",
    "\n",
    "**We'll use Logistic and Decision Tree Models for this analysis**\n",
    "- Start with Logistic Regression: A transparent, baseline model to understand odds and probabilities.\n",
    "\n",
    "   * Pros: Easy to interpret.\n",
    "\n",
    "  * Cons: Struggles with complex splits and non-linearities.\n",
    "\n",
    "- Add Decision Tree: Allows for non-linear splits and is interpretable through visual logic.\n",
    "\n",
    "  * Pros: Better accuracy and explainability for individual decisions.\n",
    "\n",
    "  * Cons: More prone to overfitting (controlled with max_depth=3).\n",
    "\n",
    "Evaluated using multiple metrics: Because of class imbalance, we'll prioritize recall and ROC AUC over plain accuracy."
   ]
  },
  {
   "cell_type": "markdown",
   "id": "624ffd76",
   "metadata": {},
   "source": [
    "**Building and evaluating the model**"
   ]
  },
  {
   "cell_type": "code",
   "execution_count": 144,
   "id": "26123fed",
   "metadata": {},
   "outputs": [
    {
     "name": "stdout",
     "output_type": "stream",
     "text": [
      "Accuracy Score :0.8996\n"
     ]
    }
   ],
   "source": [
    "#Training the model\n",
    "from sklearn.linear_model import LogisticRegression\n",
    "from sklearn.metrics import accuracy_score #check the accuracy of the model\n",
    "model = LogisticRegression(max_iter=1000) #instantiate the model\n",
    "#fit/train the model\n",
    "model_log = model.fit(x_train_processed,y_train)\n",
    "\n",
    "#test performance\n",
    "y_hat_test = model_log.predict(x_test_processed)\n",
    "\n",
    "\n",
    "acc_ = accuracy_score( y_test,y_hat_test)\n",
    "print(f'Accuracy Score :{acc_:.4f}')"
   ]
  },
  {
   "cell_type": "markdown",
   "id": "fd8156a3",
   "metadata": {},
   "source": [
    "- The output is still on the imbalanced dataset (0.88 to 0.12) that's why the accuracy is high (~90%),  so we use SMOTE generate synthetic examples to \n",
    "\n",
    "    solve this on our training dataset.\n"
   ]
  },
  {
   "cell_type": "code",
   "execution_count": 145,
   "id": "09748b97",
   "metadata": {},
   "outputs": [
    {
     "name": "stdout",
     "output_type": "stream",
     "text": [
      "Optimization terminated successfully.\n",
      "         Current function value: 0.242033\n",
      "         Iterations 8\n",
      "poutcome_success            9.629972\n",
      "month_mar                   3.728724\n",
      "was_previously_contacted    3.234248\n",
      "duration_scaled             2.939068\n",
      "poutcome_unknown            2.471672\n",
      "day_of_week_Sunday          2.348789\n",
      "day_of_week_Saturday        2.348203\n",
      "month_oct                   2.137389\n",
      "month_sep                   1.860017\n",
      "day_of_week_Monday          1.797903\n",
      "dtype: float64\n"
     ]
    }
   ],
   "source": [
    "#use statsmodels rather than scikit-learn  for the output of coefficients\n",
    "import statsmodels.api as sm\n",
    "x_train_const = sm.add_constant(x_train_processed) #adding constants\n",
    "logit_model = sm.Logit(y_train, x_train_const) #training the model\n",
    "result = logit_model.fit() \n",
    "odds_ratios = np.exp(result.params) #to convert the parameters to odd ratios\n",
    "odds_ratios = odds_ratios.sort_values(ascending=False).head(10)#to arrange them in ascending order\n",
    "print(odds_ratios)"
   ]
  },
  {
   "cell_type": "markdown",
   "id": "955a30fb",
   "metadata": {},
   "source": [
    "- **poutcome_success (OR = 9.63)**  \n",
    "   - Clients with a previous **successful campaign outcome** are **over 9 times more likely** to subscribe again. This highlights the **power of retargeting** clients who have responded positively in the past.\n",
    "\n",
    "- **duration_scaled (OR = 2.94)**  \n",
    "   - Longer **call durations** significantly boost the odds of success. This suggests that **deeper, more engaging conversations** are closely linked to positive outcomes.\n",
    "\n",
    "- **was_previously_contacted (OR = 3.23)**  \n",
    "   - Clients who had been **contacted before** are much more likely to subscribe. This underlines the importance of **persistent follow-ups** in campaign strategy.\n",
    "\n",
    "- **month_mar (OR = 3.73)**  \n",
    "   - Campaigns executed in **March** are substantially more successful, pointing to **seasonal timing** as a strategic factor.\n",
    "\n",
    "- **poutcome_unknown (OR = 2.47)**  \n",
    "   - Even when the previous campaign outcome is **unknown**, clients are still more likely to subscribe than those in the reference group (likely \"failure\"), indicating that **neutral or undefined outcomes can still carry potential**."
   ]
  },
  {
   "cell_type": "markdown",
   "id": "bd832632",
   "metadata": {},
   "source": [
    "- The output helps you check the most influencial features in the model ignoring the others that are less influencial using the log-odds."
   ]
  },
  {
   "cell_type": "markdown",
   "id": "8b9601e6",
   "metadata": {},
   "source": [
    "**Improve the LOGISTIC MODEL using SMOTE**"
   ]
  },
  {
   "cell_type": "code",
   "execution_count": 146,
   "id": "03245b57",
   "metadata": {},
   "outputs": [],
   "source": [
    "#import SMOTE and classification and confusion matrix\n",
    "from imblearn.over_sampling import SMOTE\n",
    "#from sklearn.metrics import classification_report, confusion_matrix\n",
    "\n",
    "#resample the train data\n",
    "smote = SMOTE(random_state=42)\n",
    "x_train_smote, y_train_smote = smote.fit_resample(x_train_processed, y_train)\n"
   ]
  },
  {
   "cell_type": "markdown",
   "id": "751fc5f7",
   "metadata": {},
   "source": [
    "**fit the models (DecisionTree and Logistic model)**"
   ]
  },
  {
   "cell_type": "code",
   "execution_count": 147,
   "id": "7b95f965",
   "metadata": {},
   "outputs": [
    {
     "name": "stdout",
     "output_type": "stream",
     "text": [
      "\n",
      "Accuracy Score :0.8461\n",
      "\n",
      "Accuracy Score Tree:0.8716\n",
      "\n",
      "Accuracy score reduced due to using SMOTE to ~85%\n",
      "\n",
      "Accuracy score using Tree Model is ~87%\n"
     ]
    }
   ],
   "source": [
    "model = LogisticRegression(max_iter=1000) #to increase iters for convergence\n",
    "#train the model with the generated samples\n",
    "model.fit(x_train_smote,y_train_smote)\n",
    "\n",
    "# Decision Tree\n",
    "tree_model = DecisionTreeClassifier(max_depth=3,criterion='entropy', random_state=42)\n",
    "tree_model.fit(x_train_smote, y_train_smote)\n",
    "\n",
    "\n",
    "#predict using the test data \n",
    "y_pred = model.predict(x_test_processed)\n",
    "y_pred_tree = tree_model.predict(x_test_processed)\n",
    "\n",
    "\n",
    "print(f'\\nAccuracy Score :{ accuracy_score( y_test,y_pred):.4f}')\n",
    "print(f'\\nAccuracy Score Tree:{ accuracy_score( y_test,y_pred_tree):.4f}')\n",
    "print('\\nAccuracy score reduced due to using SMOTE to ~85%')\n",
    "print('\\nAccuracy score using Tree Model is ~87%')"
   ]
  },
  {
   "cell_type": "markdown",
   "id": "b163f2c7",
   "metadata": {},
   "source": [
    "- **Accuracy Score:** 0.8461  \n",
    "  The overall accuracy is approximately 84.6%. This score slightly reduced due to applying SMOTE for handling class imbalance, which balanced the data but affected accuracy.\n",
    "\n",
    "- **Accuracy Score Tree:** 0.8716  \n",
    "  The decision tree model achieved a higher accuracy of about 87.2%, indicating better predictive performance compared to the baseline model.\n"
   ]
  },
  {
   "cell_type": "code",
   "execution_count": 148,
   "id": "8167b551",
   "metadata": {},
   "outputs": [
    {
     "name": "stdout",
     "output_type": "stream",
     "text": [
      "\n",
      "LM:[[10221  1745]\n",
      " [  343  1255]]\n",
      "\n",
      "DT:[[10904  1062]\n",
      " [  680   918]]\n"
     ]
    }
   ],
   "source": [
    "#print confusion matrices of the decision tree and logistic model.\n",
    "print(f'\\nLM:{confusion_matrix(y_test, y_pred)}')\n",
    "print(f'\\nDT:{confusion_matrix(y_test, y_pred_tree)}')"
   ]
  },
  {
   "cell_type": "markdown",
   "id": "5e633abb",
   "metadata": {},
   "source": [
    "#### Logistic Regression (LM)\n",
    "\n",
    "- **True Negatives (TN):** 10,221  \n",
    "- **False Positives (FP):** 1,745  \n",
    "- **False Negatives (FN):** 343  \n",
    "- **True Positives (TP):** 1,255  \n",
    "\n",
    "The logistic regression model has a relatively low false negative count (343), meaning it misses fewer positive cases.\n",
    "\n",
    "#### Decision Tree (DT)\n",
    "\n",
    "- **True Negatives (TN):** 10,904  \n",
    "- **False Positives (FP):** 1,062  \n",
    "- **False Negatives (FN):** 680  \n",
    "- **True Positives (TP):** 918  \n",
    "\n",
    "The decision tree has fewer false positives compared to logistic regression but more false negatives, indicating it misses more positive cases but produces fewer false alarms.\n",
    "\n",
    "- **Logistic Regression** favors identifying positives (lower FN) but has more false alarms (higher FP).  \n",
    "- **Decision Tree** favors reducing false alarms (lower FP) but at the cost of missing more positives (higher FN).\n",
    "\n"
   ]
  },
  {
   "cell_type": "markdown",
   "id": "3f5f8f6d",
   "metadata": {},
   "source": [
    "**Visualizing The DecisionTree model**"
   ]
  },
  {
   "cell_type": "code",
   "execution_count": 149,
   "id": "6f1a08c8",
   "metadata": {},
   "outputs": [
    {
     "data": {
      "image/png": "[encoded data removed]",
      "text/plain": [
       "<Figure size 1200x900 with 1 Axes>"
      ]
     },
     "metadata": {},
     "output_type": "display_data"
    }
   ],
   "source": [
    "#plot the decision tree\n",
    "from sklearn.tree import plot_tree\n",
    "plt.figure(figsize=(12, 9))\n",
    "plot_tree(tree_model, feature_names=x_train_processed.columns, class_names=['No', 'Yes'], filled=True)\n",
    "plt.show()"
   ]
  },
  {
   "cell_type": "markdown",
   "id": "dd632737",
   "metadata": {},
   "source": [
    "- **Previous** success is critical: One of the first splits often involves whether the outcome of a previous campaign was a success — those with past success are far more likely to convert.\n",
    "\n",
    "- **Call duration** is a decisive factor: Longer call durations appear deep in the tree and are associated with much higher subscription likelihood.\n",
    "\n",
    "- **Clients with no prior contact history** are more uncertain: The tree tends to predict \"no\" for those not previously contacted, unless other strong indicators exist (e.g., high call duration or contact in high-conversion months)."
   ]
  },
  {
   "cell_type": "markdown",
   "id": "a9bd4344",
   "metadata": {},
   "source": [
    "**Time-Based Insights**\n"
   ]
  },
  {
   "cell_type": "markdown",
   "id": "2cd7523c",
   "metadata": {},
   "source": [
    "- Next is to analyze how month, day_of_week, poutcome, and duration affect conversion"
   ]
  },
  {
   "cell_type": "code",
   "execution_count": 150,
   "id": "020d25fd",
   "metadata": {},
   "outputs": [
    {
     "data": {
      "text/html": [
       "<div>\n",
       "<style scoped>\n",
       "    .dataframe tbody tr th:only-of-type {\n",
       "        vertical-align: middle;\n",
       "    }\n",
       "\n",
       "    .dataframe tbody tr th {\n",
       "        vertical-align: top;\n",
       "    }\n",
       "\n",
       "    .dataframe thead th {\n",
       "        text-align: right;\n",
       "    }\n",
       "</style>\n",
       "<table border=\"1\" class=\"dataframe\">\n",
       "  <thead>\n",
       "    <tr style=\"text-align: right;\">\n",
       "      <th>y</th>\n",
       "      <th>no</th>\n",
       "      <th>yes</th>\n",
       "    </tr>\n",
       "    <tr>\n",
       "      <th>month</th>\n",
       "      <th></th>\n",
       "      <th></th>\n",
       "    </tr>\n",
       "  </thead>\n",
       "  <tbody>\n",
       "    <tr>\n",
       "      <th>jan</th>\n",
       "      <td>89.878831</td>\n",
       "      <td>10.121169</td>\n",
       "    </tr>\n",
       "    <tr>\n",
       "      <th>feb</th>\n",
       "      <td>83.352208</td>\n",
       "      <td>16.647792</td>\n",
       "    </tr>\n",
       "    <tr>\n",
       "      <th>mar</th>\n",
       "      <td>48.008386</td>\n",
       "      <td>51.991614</td>\n",
       "    </tr>\n",
       "    <tr>\n",
       "      <th>apr</th>\n",
       "      <td>80.320600</td>\n",
       "      <td>19.679400</td>\n",
       "    </tr>\n",
       "    <tr>\n",
       "      <th>may</th>\n",
       "      <td>93.280546</td>\n",
       "      <td>6.719454</td>\n",
       "    </tr>\n",
       "    <tr>\n",
       "      <th>jun</th>\n",
       "      <td>89.777195</td>\n",
       "      <td>10.222805</td>\n",
       "    </tr>\n",
       "    <tr>\n",
       "      <th>jul</th>\n",
       "      <td>90.906454</td>\n",
       "      <td>9.093546</td>\n",
       "    </tr>\n",
       "    <tr>\n",
       "      <th>aug</th>\n",
       "      <td>88.986714</td>\n",
       "      <td>11.013286</td>\n",
       "    </tr>\n",
       "    <tr>\n",
       "      <th>sep</th>\n",
       "      <td>53.540587</td>\n",
       "      <td>46.459413</td>\n",
       "    </tr>\n",
       "    <tr>\n",
       "      <th>oct</th>\n",
       "      <td>56.233062</td>\n",
       "      <td>43.766938</td>\n",
       "    </tr>\n",
       "    <tr>\n",
       "      <th>nov</th>\n",
       "      <td>89.848866</td>\n",
       "      <td>10.151134</td>\n",
       "    </tr>\n",
       "    <tr>\n",
       "      <th>dec</th>\n",
       "      <td>53.271028</td>\n",
       "      <td>46.728972</td>\n",
       "    </tr>\n",
       "  </tbody>\n",
       "</table>\n",
       "</div>"
      ],
      "text/plain": [
       "y             no        yes\n",
       "month                      \n",
       "jan    89.878831  10.121169\n",
       "feb    83.352208  16.647792\n",
       "mar    48.008386  51.991614\n",
       "apr    80.320600  19.679400\n",
       "may    93.280546   6.719454\n",
       "jun    89.777195  10.222805\n",
       "jul    90.906454   9.093546\n",
       "aug    88.986714  11.013286\n",
       "sep    53.540587  46.459413\n",
       "oct    56.233062  43.766938\n",
       "nov    89.848866  10.151134\n",
       "dec    53.271028  46.728972"
      ]
     },
     "execution_count": 150,
     "metadata": {},
     "output_type": "execute_result"
    }
   ],
   "source": [
    "#a tabular visualization of the month  to subscription rates\n",
    "pd.crosstab(df['month'], df['y'], normalize='index') * 100"
   ]
  },
  {
   "cell_type": "markdown",
   "id": "13c37738",
   "metadata": {},
   "source": [
    "- March, September, October, and December stand out with significantly higher subscription rates (close to or above 45%). These months are ideal for campaign launches.  \n",
    "\n",
    "- May has the lowest success rate (only 6.72% subscribed), despite being a high-contact month. Suggestion on reducing calls during May or adjusting the strategy used in that month.  \n",
    "\n",
    "- Other months like January, June, July, and November have relatively low subscription success rates (~10%), indicating lower efficiency.  \n"
   ]
  },
  {
   "cell_type": "code",
   "execution_count": 151,
   "id": "53b359bb",
   "metadata": {},
   "outputs": [
    {
     "data": {
      "text/html": [
       "<div>\n",
       "<style scoped>\n",
       "    .dataframe tbody tr th:only-of-type {\n",
       "        vertical-align: middle;\n",
       "    }\n",
       "\n",
       "    .dataframe tbody tr th {\n",
       "        vertical-align: top;\n",
       "    }\n",
       "\n",
       "    .dataframe thead th {\n",
       "        text-align: right;\n",
       "    }\n",
       "</style>\n",
       "<table border=\"1\" class=\"dataframe\">\n",
       "  <thead>\n",
       "    <tr style=\"text-align: right;\">\n",
       "      <th>y</th>\n",
       "      <th>no</th>\n",
       "      <th>yes</th>\n",
       "    </tr>\n",
       "    <tr>\n",
       "      <th>day_of_week</th>\n",
       "      <th></th>\n",
       "      <th></th>\n",
       "    </tr>\n",
       "  </thead>\n",
       "  <tbody>\n",
       "    <tr>\n",
       "      <th>Monday</th>\n",
       "      <td>87.604218</td>\n",
       "      <td>12.395782</td>\n",
       "    </tr>\n",
       "    <tr>\n",
       "      <th>Tuesday</th>\n",
       "      <td>88.060708</td>\n",
       "      <td>11.939292</td>\n",
       "    </tr>\n",
       "    <tr>\n",
       "      <th>Wednesday</th>\n",
       "      <td>88.170231</td>\n",
       "      <td>11.829769</td>\n",
       "    </tr>\n",
       "    <tr>\n",
       "      <th>Thursday</th>\n",
       "      <td>91.095178</td>\n",
       "      <td>8.904822</td>\n",
       "    </tr>\n",
       "    <tr>\n",
       "      <th>Friday</th>\n",
       "      <td>94.401187</td>\n",
       "      <td>5.598813</td>\n",
       "    </tr>\n",
       "    <tr>\n",
       "      <th>Saturday</th>\n",
       "      <td>58.540925</td>\n",
       "      <td>41.459075</td>\n",
       "    </tr>\n",
       "    <tr>\n",
       "      <th>Sunday</th>\n",
       "      <td>80.610236</td>\n",
       "      <td>19.389764</td>\n",
       "    </tr>\n",
       "  </tbody>\n",
       "</table>\n",
       "</div>"
      ],
      "text/plain": [
       "y                   no        yes\n",
       "day_of_week                      \n",
       "Monday       87.604218  12.395782\n",
       "Tuesday      88.060708  11.939292\n",
       "Wednesday    88.170231  11.829769\n",
       "Thursday     91.095178   8.904822\n",
       "Friday       94.401187   5.598813\n",
       "Saturday     58.540925  41.459075\n",
       "Sunday       80.610236  19.389764"
      ]
     },
     "execution_count": 151,
     "metadata": {},
     "output_type": "execute_result"
    }
   ],
   "source": [
    "#a tabular visualization of the day_of_week  to subscription rates\n",
    "pd.crosstab(df['day_of_week'], df['y'], normalize='index') * 100"
   ]
  },
  {
   "cell_type": "markdown",
   "id": "fd49bc40",
   "metadata": {},
   "source": [
    "- **Saturday** has the highest subscription rate **(41.46%)**, far outperforming all other days. Consider prioritizing outbound calls or campaigns on Saturdays.  \n",
    "\n",
    "- **Sunday** also performs relatively well **(19.39%)**, better than most weekdays. May be an underutilized day with good potential.  \n",
    "\n",
    "- **Friday** has the lowest conversion rate **(5.60%)**, suggesting campaigns on this day are least effective. Reduce or avoid calling on Fridays.\n",
    "\n",
    "- Weekdays **(Mon–Thu)** hover around **11–12%** success, showing similar, moderate effectiveness."
   ]
  },
  {
   "cell_type": "code",
   "execution_count": 152,
   "id": "32ec1e49",
   "metadata": {},
   "outputs": [
    {
     "data": {
      "text/html": [
       "<div>\n",
       "<style scoped>\n",
       "    .dataframe tbody tr th:only-of-type {\n",
       "        vertical-align: middle;\n",
       "    }\n",
       "\n",
       "    .dataframe tbody tr th {\n",
       "        vertical-align: top;\n",
       "    }\n",
       "\n",
       "    .dataframe thead th {\n",
       "        text-align: right;\n",
       "    }\n",
       "</style>\n",
       "<table border=\"1\" class=\"dataframe\">\n",
       "  <thead>\n",
       "    <tr style=\"text-align: right;\">\n",
       "      <th>y</th>\n",
       "      <th>no</th>\n",
       "      <th>yes</th>\n",
       "    </tr>\n",
       "    <tr>\n",
       "      <th>poutcome</th>\n",
       "      <th></th>\n",
       "      <th></th>\n",
       "    </tr>\n",
       "  </thead>\n",
       "  <tbody>\n",
       "    <tr>\n",
       "      <th>failure</th>\n",
       "      <td>87.390329</td>\n",
       "      <td>12.609671</td>\n",
       "    </tr>\n",
       "    <tr>\n",
       "      <th>other</th>\n",
       "      <td>83.315217</td>\n",
       "      <td>16.684783</td>\n",
       "    </tr>\n",
       "    <tr>\n",
       "      <th>success</th>\n",
       "      <td>35.274653</td>\n",
       "      <td>64.725347</td>\n",
       "    </tr>\n",
       "    <tr>\n",
       "      <th>unknown</th>\n",
       "      <td>90.838497</td>\n",
       "      <td>9.161503</td>\n",
       "    </tr>\n",
       "  </tbody>\n",
       "</table>\n",
       "</div>"
      ],
      "text/plain": [
       "y                no        yes\n",
       "poutcome                      \n",
       "failure   87.390329  12.609671\n",
       "other     83.315217  16.684783\n",
       "success   35.274653  64.725347\n",
       "unknown   90.838497   9.161503"
      ]
     },
     "execution_count": 152,
     "metadata": {},
     "output_type": "execute_result"
    }
   ],
   "source": [
    "#a tabular visualization of the previous outcome  to subscription rates\n",
    "pd.crosstab(df['poutcome'], df['y'], normalize='index') * 100"
   ]
  },
  {
   "cell_type": "markdown",
   "id": "bd2844b4",
   "metadata": {},
   "source": [
    "- **Success**: Clients with a successful outcome in a previous campaign have the highest subscription rate, with **64.73%** saying \"yes\". This group should be **highly prioritized** in future marketing efforts due to their strong positive response.\n",
    "  \n",
    "- **Other**: The \"other\" group has a **16.68%** subscription rate, which is moderate. These clients show some potential and could be targeted after the \"success\" group.\n",
    "\n",
    "- **Failure**: Clients who previously had a failed outcome show a **12.61%** success rate. This indicates lower effectiveness, and they may require a **different strategy or message**.\n",
    "\n",
    "- **Unknown**: The \"unknown\" group has the lowest success rate after failure, with only **9.16%** subscribing. These clients may be **least responsive**, and targeting them should be **re-evaluated** to optimize campaign costs.\n"
   ]
  },
  {
   "cell_type": "code",
   "execution_count": 153,
   "id": "7addde5b",
   "metadata": {},
   "outputs": [
    {
     "data": {
      "text/html": [
       "<div>\n",
       "<style scoped>\n",
       "    .dataframe tbody tr th:only-of-type {\n",
       "        vertical-align: middle;\n",
       "    }\n",
       "\n",
       "    .dataframe tbody tr th {\n",
       "        vertical-align: top;\n",
       "    }\n",
       "\n",
       "    .dataframe thead th {\n",
       "        text-align: right;\n",
       "    }\n",
       "</style>\n",
       "<table border=\"1\" class=\"dataframe\">\n",
       "  <thead>\n",
       "    <tr style=\"text-align: right;\">\n",
       "      <th>y</th>\n",
       "      <th>no</th>\n",
       "      <th>yes</th>\n",
       "    </tr>\n",
       "    <tr>\n",
       "      <th>duration_group</th>\n",
       "      <th></th>\n",
       "      <th></th>\n",
       "    </tr>\n",
       "  </thead>\n",
       "  <tbody>\n",
       "    <tr>\n",
       "      <th>Very Short (0-100s)</th>\n",
       "      <td>98.946289</td>\n",
       "      <td>1.053711</td>\n",
       "    </tr>\n",
       "    <tr>\n",
       "      <th>Short (100-300s)</th>\n",
       "      <td>92.287210</td>\n",
       "      <td>7.712790</td>\n",
       "    </tr>\n",
       "    <tr>\n",
       "      <th>Medium (300-600s)</th>\n",
       "      <td>80.884250</td>\n",
       "      <td>19.115750</td>\n",
       "    </tr>\n",
       "    <tr>\n",
       "      <th>Long (600-1200s)</th>\n",
       "      <td>53.998148</td>\n",
       "      <td>46.001852</td>\n",
       "    </tr>\n",
       "    <tr>\n",
       "      <th>Very Long (1200s+)</th>\n",
       "      <td>38.256228</td>\n",
       "      <td>61.743772</td>\n",
       "    </tr>\n",
       "  </tbody>\n",
       "</table>\n",
       "</div>"
      ],
      "text/plain": [
       "y                           no        yes\n",
       "duration_group                           \n",
       "Very Short (0-100s)  98.946289   1.053711\n",
       "Short (100-300s)     92.287210   7.712790\n",
       "Medium (300-600s)    80.884250  19.115750\n",
       "Long (600-1200s)     53.998148  46.001852\n",
       "Very Long (1200s+)   38.256228  61.743772"
      ]
     },
     "execution_count": 153,
     "metadata": {},
     "output_type": "execute_result"
    }
   ],
   "source": [
    "bins = [0, 100, 300, 600, 1200, df['duration'].max()] #group the call duration ranges for easier visualization\n",
    "labels = ['Very Short (0-100s)', 'Short (100-300s)', 'Medium (300-600s)', 'Long (600-1200s)', 'Very Long (1200s+)'] #labels of the bins\n",
    "df['duration_group'] = pd.cut(df['duration'], bins=bins, labels=labels, right=False) #to create custom duration ranges\n",
    "\n",
    "#a tabular visualization of the outcome in percentage\n",
    "pd.crosstab(df['duration_group'], df['y'], normalize='index') * 100"
   ]
  },
  {
   "cell_type": "markdown",
   "id": "0d815196",
   "metadata": {},
   "source": [
    "- **Very Long (1200s+)**: These calls have the highest subscription rate, with **61.74%** of clients subscribing. This indicates that **longer conversations are strongly associated with client conversions**, highlighting the importance of maintaining engagement.\n",
    "\n",
    "- **Long (600–1200s)**: With a **46.00%** subscription rate, these calls also show a strong potential for success. Sales agents should aim to **extend calls beyond 600 seconds** when feasible.\n",
    "\n",
    "- **Medium (300–600s)**: A moderate success rate of **19.12%** suggests some impact, though not as strong. These calls could be **optimized with better targeting or scripting**.\n",
    "\n",
    "- **Short (100–300s)** and **Very Short (0–100s)**: Subscription rates drop significantly to **7.71%** and **1.05%**, respectively. These brief interactions are largely ineffective, suggesting that **short calls should be minimized or followed up with longer engagements**.\n"
   ]
  },
  {
   "cell_type": "markdown",
   "id": "6df40912",
   "metadata": {},
   "source": [
    "**visualize the ROC Curve**"
   ]
  },
  {
   "cell_type": "code",
   "execution_count": 154,
   "id": "2763a2eb",
   "metadata": {},
   "outputs": [
    {
     "data": {
      "image/png": "[encoded data removed]",
      "text/plain": [
       "<Figure size 640x480 with 1 Axes>"
      ]
     },
     "metadata": {},
     "output_type": "display_data"
    }
   ],
   "source": [
    "#visualize the ROC Curve\n",
    "from sklearn.metrics import RocCurveDisplay\n",
    "RocCurveDisplay.from_estimator(model, x_test_processed, y_test)\n",
    "plt.show()\n"
   ]
  },
  {
   "cell_type": "markdown",
   "id": "457642f7",
   "metadata": {},
   "source": [
    "- The closer the curve hugs the top-left corner, the better the model is at correctly identifying yes vs. no responses.\n",
    "\n",
    "- The model hugs the y-axis on thetop-left curve signifying it has high rates of correctly predicting the 'yes'/'no' outcomes of classification."
   ]
  },
  {
   "cell_type": "markdown",
   "id": "4561e44f",
   "metadata": {},
   "source": [
    "## 2. How can we use model predictions to prioritize clients and reduce unnecessary marketing efforts?"
   ]
  },
  {
   "cell_type": "markdown",
   "id": "7ec67ede",
   "metadata": {},
   "source": [
    "- Next we check the probabilities and use them to rank the clients."
   ]
  },
  {
   "cell_type": "code",
   "execution_count": 155,
   "id": "be75d4e7",
   "metadata": {},
   "outputs": [
    {
     "data": {
      "text/html": [
       "<div>\n",
       "<style scoped>\n",
       "    .dataframe tbody tr th:only-of-type {\n",
       "        vertical-align: middle;\n",
       "    }\n",
       "\n",
       "    .dataframe tbody tr th {\n",
       "        vertical-align: top;\n",
       "    }\n",
       "\n",
       "    .dataframe thead th {\n",
       "        text-align: right;\n",
       "    }\n",
       "</style>\n",
       "<table border=\"1\" class=\"dataframe\">\n",
       "  <thead>\n",
       "    <tr style=\"text-align: right;\">\n",
       "      <th></th>\n",
       "      <th>previous</th>\n",
       "      <th>was_previously_contacted</th>\n",
       "      <th>loan_lencoded</th>\n",
       "      <th>default_lencoded</th>\n",
       "      <th>housing_lencoded</th>\n",
       "      <th>age_scaled</th>\n",
       "      <th>balance_scaled</th>\n",
       "      <th>duration_scaled</th>\n",
       "      <th>campaign_scaled</th>\n",
       "      <th>day_scaled</th>\n",
       "      <th>...</th>\n",
       "      <th>day_of_week_Saturday</th>\n",
       "      <th>day_of_week_Sunday</th>\n",
       "      <th>day_of_week_Thursday</th>\n",
       "      <th>day_of_week_Tuesday</th>\n",
       "      <th>day_of_week_Wednesday</th>\n",
       "      <th>poutcome_other</th>\n",
       "      <th>poutcome_success</th>\n",
       "      <th>poutcome_unknown</th>\n",
       "      <th>Actual</th>\n",
       "      <th>Subscription_Prob</th>\n",
       "    </tr>\n",
       "  </thead>\n",
       "  <tbody>\n",
       "    <tr>\n",
       "      <th>2386</th>\n",
       "      <td>0</td>\n",
       "      <td>0</td>\n",
       "      <td>0</td>\n",
       "      <td>0</td>\n",
       "      <td>1</td>\n",
       "      <td>0.381715</td>\n",
       "      <td>-0.434014</td>\n",
       "      <td>12.009558</td>\n",
       "      <td>0.072215</td>\n",
       "      <td>-0.339973</td>\n",
       "      <td>...</td>\n",
       "      <td>0.0</td>\n",
       "      <td>0.0</td>\n",
       "      <td>0.0</td>\n",
       "      <td>1.0</td>\n",
       "      <td>0.0</td>\n",
       "      <td>0.0</td>\n",
       "      <td>0.0</td>\n",
       "      <td>1.0</td>\n",
       "      <td>0</td>\n",
       "      <td>1.000000</td>\n",
       "    </tr>\n",
       "    <tr>\n",
       "      <th>12347</th>\n",
       "      <td>0</td>\n",
       "      <td>0</td>\n",
       "      <td>1</td>\n",
       "      <td>0</td>\n",
       "      <td>0</td>\n",
       "      <td>-1.217256</td>\n",
       "      <td>-0.458537</td>\n",
       "      <td>11.302529</td>\n",
       "      <td>-0.244847</td>\n",
       "      <td>1.221951</td>\n",
       "      <td>...</td>\n",
       "      <td>0.0</td>\n",
       "      <td>0.0</td>\n",
       "      <td>1.0</td>\n",
       "      <td>0.0</td>\n",
       "      <td>0.0</td>\n",
       "      <td>0.0</td>\n",
       "      <td>0.0</td>\n",
       "      <td>1.0</td>\n",
       "      <td>1</td>\n",
       "      <td>1.000000</td>\n",
       "    </tr>\n",
       "    <tr>\n",
       "      <th>11635</th>\n",
       "      <td>0</td>\n",
       "      <td>0</td>\n",
       "      <td>0</td>\n",
       "      <td>0</td>\n",
       "      <td>0</td>\n",
       "      <td>1.510400</td>\n",
       "      <td>-0.191138</td>\n",
       "      <td>9.185307</td>\n",
       "      <td>0.072215</td>\n",
       "      <td>0.380915</td>\n",
       "      <td>...</td>\n",
       "      <td>0.0</td>\n",
       "      <td>0.0</td>\n",
       "      <td>1.0</td>\n",
       "      <td>0.0</td>\n",
       "      <td>0.0</td>\n",
       "      <td>0.0</td>\n",
       "      <td>0.0</td>\n",
       "      <td>1.0</td>\n",
       "      <td>0</td>\n",
       "      <td>1.000000</td>\n",
       "    </tr>\n",
       "    <tr>\n",
       "      <th>10989</th>\n",
       "      <td>0</td>\n",
       "      <td>0</td>\n",
       "      <td>0</td>\n",
       "      <td>0</td>\n",
       "      <td>0</td>\n",
       "      <td>1.792571</td>\n",
       "      <td>0.652713</td>\n",
       "      <td>9.131217</td>\n",
       "      <td>0.072215</td>\n",
       "      <td>0.140619</td>\n",
       "      <td>...</td>\n",
       "      <td>0.0</td>\n",
       "      <td>0.0</td>\n",
       "      <td>0.0</td>\n",
       "      <td>1.0</td>\n",
       "      <td>0.0</td>\n",
       "      <td>0.0</td>\n",
       "      <td>0.0</td>\n",
       "      <td>1.0</td>\n",
       "      <td>1</td>\n",
       "      <td>0.999999</td>\n",
       "    </tr>\n",
       "    <tr>\n",
       "      <th>43901</th>\n",
       "      <td>0</td>\n",
       "      <td>0</td>\n",
       "      <td>0</td>\n",
       "      <td>0</td>\n",
       "      <td>0</td>\n",
       "      <td>0.852000</td>\n",
       "      <td>-0.455514</td>\n",
       "      <td>8.234875</td>\n",
       "      <td>-0.561910</td>\n",
       "      <td>-0.700417</td>\n",
       "      <td>...</td>\n",
       "      <td>0.0</td>\n",
       "      <td>0.0</td>\n",
       "      <td>0.0</td>\n",
       "      <td>1.0</td>\n",
       "      <td>0.0</td>\n",
       "      <td>0.0</td>\n",
       "      <td>0.0</td>\n",
       "      <td>1.0</td>\n",
       "      <td>0</td>\n",
       "      <td>0.999999</td>\n",
       "    </tr>\n",
       "    <tr>\n",
       "      <th>41588</th>\n",
       "      <td>2</td>\n",
       "      <td>1</td>\n",
       "      <td>0</td>\n",
       "      <td>0</td>\n",
       "      <td>0</td>\n",
       "      <td>-0.088571</td>\n",
       "      <td>-0.021830</td>\n",
       "      <td>5.580619</td>\n",
       "      <td>0.072215</td>\n",
       "      <td>0.020471</td>\n",
       "      <td>...</td>\n",
       "      <td>0.0</td>\n",
       "      <td>0.0</td>\n",
       "      <td>0.0</td>\n",
       "      <td>1.0</td>\n",
       "      <td>0.0</td>\n",
       "      <td>0.0</td>\n",
       "      <td>1.0</td>\n",
       "      <td>0.0</td>\n",
       "      <td>1</td>\n",
       "      <td>0.999998</td>\n",
       "    </tr>\n",
       "    <tr>\n",
       "      <th>42265</th>\n",
       "      <td>3</td>\n",
       "      <td>1</td>\n",
       "      <td>0</td>\n",
       "      <td>0</td>\n",
       "      <td>0</td>\n",
       "      <td>2.074742</td>\n",
       "      <td>1.261079</td>\n",
       "      <td>7.442848</td>\n",
       "      <td>-0.244847</td>\n",
       "      <td>-0.339973</td>\n",
       "      <td>...</td>\n",
       "      <td>0.0</td>\n",
       "      <td>0.0</td>\n",
       "      <td>1.0</td>\n",
       "      <td>0.0</td>\n",
       "      <td>0.0</td>\n",
       "      <td>0.0</td>\n",
       "      <td>0.0</td>\n",
       "      <td>0.0</td>\n",
       "      <td>1</td>\n",
       "      <td>0.999993</td>\n",
       "    </tr>\n",
       "    <tr>\n",
       "      <th>1731</th>\n",
       "      <td>0</td>\n",
       "      <td>0</td>\n",
       "      <td>0</td>\n",
       "      <td>0</td>\n",
       "      <td>1</td>\n",
       "      <td>0.005486</td>\n",
       "      <td>-0.319799</td>\n",
       "      <td>8.516913</td>\n",
       "      <td>-0.561910</td>\n",
       "      <td>-0.820565</td>\n",
       "      <td>...</td>\n",
       "      <td>0.0</td>\n",
       "      <td>0.0</td>\n",
       "      <td>0.0</td>\n",
       "      <td>0.0</td>\n",
       "      <td>0.0</td>\n",
       "      <td>0.0</td>\n",
       "      <td>0.0</td>\n",
       "      <td>1.0</td>\n",
       "      <td>0</td>\n",
       "      <td>0.999985</td>\n",
       "    </tr>\n",
       "    <tr>\n",
       "      <th>29342</th>\n",
       "      <td>0</td>\n",
       "      <td>0</td>\n",
       "      <td>1</td>\n",
       "      <td>0</td>\n",
       "      <td>1</td>\n",
       "      <td>-0.182628</td>\n",
       "      <td>-0.258660</td>\n",
       "      <td>7.721023</td>\n",
       "      <td>-0.244847</td>\n",
       "      <td>-1.661601</td>\n",
       "      <td>...</td>\n",
       "      <td>0.0</td>\n",
       "      <td>1.0</td>\n",
       "      <td>0.0</td>\n",
       "      <td>0.0</td>\n",
       "      <td>0.0</td>\n",
       "      <td>0.0</td>\n",
       "      <td>0.0</td>\n",
       "      <td>1.0</td>\n",
       "      <td>0</td>\n",
       "      <td>0.999975</td>\n",
       "    </tr>\n",
       "    <tr>\n",
       "      <th>41785</th>\n",
       "      <td>2</td>\n",
       "      <td>1</td>\n",
       "      <td>0</td>\n",
       "      <td>0</td>\n",
       "      <td>0</td>\n",
       "      <td>0.193601</td>\n",
       "      <td>-0.057103</td>\n",
       "      <td>5.082222</td>\n",
       "      <td>-0.244847</td>\n",
       "      <td>-0.339973</td>\n",
       "      <td>...</td>\n",
       "      <td>0.0</td>\n",
       "      <td>0.0</td>\n",
       "      <td>0.0</td>\n",
       "      <td>0.0</td>\n",
       "      <td>0.0</td>\n",
       "      <td>0.0</td>\n",
       "      <td>0.0</td>\n",
       "      <td>0.0</td>\n",
       "      <td>0</td>\n",
       "      <td>0.999975</td>\n",
       "    </tr>\n",
       "  </tbody>\n",
       "</table>\n",
       "<p>10 rows × 47 columns</p>\n",
       "</div>"
      ],
      "text/plain": [
       "       previous  was_previously_contacted  loan_lencoded  default_lencoded  \\\n",
       "2386          0                         0              0                 0   \n",
       "12347         0                         0              1                 0   \n",
       "11635         0                         0              0                 0   \n",
       "10989         0                         0              0                 0   \n",
       "43901         0                         0              0                 0   \n",
       "41588         2                         1              0                 0   \n",
       "42265         3                         1              0                 0   \n",
       "1731          0                         0              0                 0   \n",
       "29342         0                         0              1                 0   \n",
       "41785         2                         1              0                 0   \n",
       "\n",
       "       housing_lencoded  age_scaled  balance_scaled  duration_scaled  \\\n",
       "2386                  1    0.381715       -0.434014        12.009558   \n",
       "12347                 0   -1.217256       -0.458537        11.302529   \n",
       "11635                 0    1.510400       -0.191138         9.185307   \n",
       "10989                 0    1.792571        0.652713         9.131217   \n",
       "43901                 0    0.852000       -0.455514         8.234875   \n",
       "41588                 0   -0.088571       -0.021830         5.580619   \n",
       "42265                 0    2.074742        1.261079         7.442848   \n",
       "1731                  1    0.005486       -0.319799         8.516913   \n",
       "29342                 1   -0.182628       -0.258660         7.721023   \n",
       "41785                 0    0.193601       -0.057103         5.082222   \n",
       "\n",
       "       campaign_scaled  day_scaled  ...  day_of_week_Saturday  \\\n",
       "2386          0.072215   -0.339973  ...                   0.0   \n",
       "12347        -0.244847    1.221951  ...                   0.0   \n",
       "11635         0.072215    0.380915  ...                   0.0   \n",
       "10989         0.072215    0.140619  ...                   0.0   \n",
       "43901        -0.561910   -0.700417  ...                   0.0   \n",
       "41588         0.072215    0.020471  ...                   0.0   \n",
       "42265        -0.244847   -0.339973  ...                   0.0   \n",
       "1731         -0.561910   -0.820565  ...                   0.0   \n",
       "29342        -0.244847   -1.661601  ...                   0.0   \n",
       "41785        -0.244847   -0.339973  ...                   0.0   \n",
       "\n",
       "       day_of_week_Sunday  day_of_week_Thursday  day_of_week_Tuesday  \\\n",
       "2386                  0.0                   0.0                  1.0   \n",
       "12347                 0.0                   1.0                  0.0   \n",
       "11635                 0.0                   1.0                  0.0   \n",
       "10989                 0.0                   0.0                  1.0   \n",
       "43901                 0.0                   0.0                  1.0   \n",
       "41588                 0.0                   0.0                  1.0   \n",
       "42265                 0.0                   1.0                  0.0   \n",
       "1731                  0.0                   0.0                  0.0   \n",
       "29342                 1.0                   0.0                  0.0   \n",
       "41785                 0.0                   0.0                  0.0   \n",
       "\n",
       "       day_of_week_Wednesday  poutcome_other  poutcome_success  \\\n",
       "2386                     0.0             0.0               0.0   \n",
       "12347                    0.0             0.0               0.0   \n",
       "11635                    0.0             0.0               0.0   \n",
       "10989                    0.0             0.0               0.0   \n",
       "43901                    0.0             0.0               0.0   \n",
       "41588                    0.0             0.0               1.0   \n",
       "42265                    0.0             0.0               0.0   \n",
       "1731                     0.0             0.0               0.0   \n",
       "29342                    0.0             0.0               0.0   \n",
       "41785                    0.0             0.0               0.0   \n",
       "\n",
       "       poutcome_unknown  Actual  Subscription_Prob  \n",
       "2386                1.0       0           1.000000  \n",
       "12347               1.0       1           1.000000  \n",
       "11635               1.0       0           1.000000  \n",
       "10989               1.0       1           0.999999  \n",
       "43901               1.0       0           0.999999  \n",
       "41588               0.0       1           0.999998  \n",
       "42265               0.0       1           0.999993  \n",
       "1731                1.0       0           0.999985  \n",
       "29342               1.0       0           0.999975  \n",
       "41785               0.0       0           0.999975  \n",
       "\n",
       "[10 rows x 47 columns]"
      ]
     },
     "execution_count": 155,
     "metadata": {},
     "output_type": "execute_result"
    }
   ],
   "source": [
    "y_probs = model.predict_proba(x_test_processed)[:, 1] #get probabilities only of the subscribers\n",
    "#Add probabilities to the test set and rank clients. \n",
    "# create a dataframe with actual outcomes and predicted probabilities\n",
    "ranking_df = x_test_processed.copy()\n",
    "ranking_df['Actual'] = y_test\n",
    "ranking_df['Subscription_Prob'] = y_probs\n",
    "\n",
    "#rank clients by likelihood of subscribing in descending  order\n",
    "ranking_df_sorted = ranking_df.sort_values(by='Subscription_Prob', ascending=False)\n",
    "ranking_df_sorted.head(10) #get the first 10"
   ]
  },
  {
   "cell_type": "markdown",
   "id": "d22c84b3",
   "metadata": {},
   "source": [
    "**Tune Threshold Using Precision-Recall Curve.**"
   ]
  },
  {
   "cell_type": "code",
   "execution_count": 156,
   "id": "04eb0419",
   "metadata": {},
   "outputs": [
    {
     "name": "stdout",
     "output_type": "stream",
     "text": [
      "Best threshold (by F1): 0.66\n"
     ]
    },
    {
     "name": "stderr",
     "output_type": "stream",
     "text": [
      "C:\\Users\\User\\AppData\\Local\\Temp\\ipykernel_4160\\3919652362.py:4: RuntimeWarning: invalid value encountered in divide\n",
      "  f1 = 2 * (precision * recall) / (precision + recall)\n"
     ]
    }
   ],
   "source": [
    "from sklearn.metrics import precision_recall_curve #using Precision-Recall Curve and F1 score to find the best threshold\n",
    "\n",
    "precision, recall, thresholds = precision_recall_curve(y_test, y_probs)\n",
    "f1 = 2 * (precision * recall) / (precision + recall)\n",
    "f1 = np.nan_to_num(f1, nan=0.0) #to safely handle zero-division(replace Nans with zero)\n",
    "best_thresh = thresholds[np.argmax(f1)] #looking for best threshold for maximum F1score\n",
    "print(f\"Best threshold (by F1): {best_thresh:.2f}\")"
   ]
  },
  {
   "cell_type": "markdown",
   "id": "84bd51b1",
   "metadata": {},
   "source": [
    "- The error occurs when precision and recall are zero at the same time.\n",
    "\n",
    "- The best threshold is at 0.66. This indicates clients with probability ≥ 0.66 are the best to target — balancing fewer calls with better results.\n",
    "- Though because the data is skewed we adjust the threshold to 0.4 to increase the allowance of the calls."
   ]
  },
  {
   "cell_type": "code",
   "execution_count": 157,
   "id": "28824415",
   "metadata": {},
   "outputs": [
    {
     "name": "stdout",
     "output_type": "stream",
     "text": [
      "Number of clients to contact: 3663\n",
      "Reduction in marketing calls: 73.0%\n"
     ]
    }
   ],
   "source": [
    "threshold_m = 0.4 \n",
    "target_clients = ranking_df_sorted[ranking_df_sorted['Subscription_Prob'] >=threshold_m] \n",
    "#The clients that are above and equal to the thresholdprobability\n",
    "print(f\"Number of clients to contact: {len(target_clients)}\")\n",
    "print(f\"Reduction in marketing calls: {100 - (len(target_clients) / len(x_test_processed) * 100):.1f}%\")"
   ]
  },
  {
   "cell_type": "markdown",
   "id": "1e1acc86",
   "metadata": {},
   "source": [
    "- **Number of Clients to Contact:** 3,663  \n",
    "  Based on the model's predictions, only 3,663 clients need to be contacted to achieve optimal results. This allows the marketing team to focus efforts on a more targeted and promising group.\n",
    "\n",
    "- **Reduction in Marketing Calls:** 73.0%  \n",
    "  By using the model, the number of marketing calls is reduced by 73%. This represents a significant cost-saving and efficiency improvement, minimizing unnecessary outreach while maximizing the likelihood of positive responses.\n"
   ]
  },
  {
   "cell_type": "code",
   "execution_count": 158,
   "id": "e461a7d1",
   "metadata": {},
   "outputs": [
    {
     "name": "stdout",
     "output_type": "stream",
     "text": [
      "Subscribers retained: 84.8%\n"
     ]
    }
   ],
   "source": [
    "# Actual subscribers captured\n",
    "actual_subscribers = target_clients['Actual'].sum() #sum of actual subs\n",
    "total_subscribers = y_test.sum() #total subs\n",
    "\n",
    "conversion_retention_rate = actual_subscribers / total_subscribers * 100 #number of accurate predictions.\n",
    "print(f\"Subscribers retained: {conversion_retention_rate:.1f}%\")\n"
   ]
  },
  {
   "cell_type": "markdown",
   "id": "969fb1d8",
   "metadata": {},
   "source": [
    "- **Subscribers Retained:** 84.8%  \n",
    "  The model successfully retains 84.8% of potential subscribers within the reduced contact group. This demonstrates high effectiveness in identifying and targeting the right clients, ensuring minimal loss in conversion while significantly reducing outreach.\n"
   ]
  },
  {
   "cell_type": "markdown",
   "id": "9e2965db",
   "metadata": {},
   "source": [
    "## 3. Can we accurately predict which customers are likely to subscribe to a term deposit based on their profile?"
   ]
  },
  {
   "cell_type": "markdown",
   "id": "10d0ad64",
   "metadata": {},
   "source": [
    "- We start by model evaluation."
   ]
  },
  {
   "cell_type": "markdown",
   "id": "b5870bbc",
   "metadata": {},
   "source": [
    "**Logistic Model evaluation**"
   ]
  },
  {
   "cell_type": "code",
   "execution_count": 159,
   "id": "bb63f363",
   "metadata": {},
   "outputs": [
    {
     "name": "stdout",
     "output_type": "stream",
     "text": [
      "Accuracy: 0.8460631082276615\n",
      "Precision: 0.41833333333333333\n",
      "Recall: 0.7853566958698373\n",
      "F1 Score: 0.5458895171813832\n",
      "ROC AUC: 0.8973024215251514\n"
     ]
    }
   ],
   "source": [
    "from sklearn.metrics import accuracy_score, precision_score, recall_score, f1_score, roc_auc_score, roc_curve, confusion_matrix\n",
    "#evaluating the accuracy of the Logistic model\n",
    "print(\"Accuracy:\", accuracy_score(y_test, y_pred))\n",
    "print(\"Precision:\", precision_score(y_test, y_pred))\n",
    "print(\"Recall:\", recall_score(y_test, y_pred))\n",
    "print(\"F1 Score:\", f1_score(y_test, y_pred))\n",
    "print(\"ROC AUC:\", roc_auc_score(y_test, y_probs))"
   ]
  },
  {
   "cell_type": "markdown",
   "id": "eebb74c7",
   "metadata": {},
   "source": [
    "- **Accuracy:** 84.6%  \n",
    "  The model correctly predicts the outcome in approximately 84.6% of the cases.\n",
    "\n",
    "- **Precision:** 41.8%  \n",
    "  Of all clients predicted to subscribe, only 41.8% actually did. This indicates a moderate rate of false positives.\n",
    "\n",
    "- **Recall (Sensitivity):** 78.5%  \n",
    "  The model successfully identifies 78.5% of actual subscribers, which shows strong performance in capturing true positives.\n",
    "\n",
    "- **F1 Score:** 0.546  \n",
    "  The F1 score balances precision and recall. A score of 0.546 reflects the trade-off between the two, favoring recall in this case.\n",
    "\n",
    "- **ROC AUC:** 0.897  \n",
    "  The model shows excellent overall classification ability. A ROC AUC of 0.897 suggests the model effectively distinguishes between subscribers and non-subscribers.\n",
    "\n",
    "The logistic model performs well in identifying potential subscribers (high recall and ROC AUC), though precision is lower. This makes it suitable for use cases where it's more important to capture as many subscribers as possible, even if it means contacting some non-subscribers.\n"
   ]
  },
  {
   "cell_type": "markdown",
   "id": "c8eacd15",
   "metadata": {},
   "source": [
    "**Plot the ROC Curve using the Logistic Model**"
   ]
  },
  {
   "cell_type": "code",
   "execution_count": 160,
   "id": "aabd4c15",
   "metadata": {},
   "outputs": [
    {
     "data": {
      "image/png": "[encoded data removed]",
      "text/plain": [
       "<Figure size 800x500 with 1 Axes>"
      ]
     },
     "metadata": {},
     "output_type": "display_data"
    }
   ],
   "source": [
    "fpr, tpr, _ = roc_curve(y_test, y_probs) #first get the False positive rate and True positive rate\n",
    "\n",
    "plt.figure(figsize=(8, 5))\n",
    "plt.plot(fpr, tpr, color='darkorange', label='ROC Curve (AUC = {:.2f})'.format(roc_auc_score(y_test, y_probs)))\n",
    "plt.plot([0, 1], [0, 1], 'k--')\n",
    "plt.xlabel('False Positive Rate')\n",
    "plt.ylabel('True Positive Rate')\n",
    "plt.title('ROC Curve - Logistic')\n",
    "plt.legend()\n",
    "plt.grid()\n",
    "plt.show()"
   ]
  },
  {
   "cell_type": "markdown",
   "id": "5427fe50",
   "metadata": {},
   "source": [
    "- AUC Score: ~0.90\n",
    "\n",
    "* This is a very strong model.\n",
    "\n",
    "* It means the model can correctly distinguish between a “yes” and “no” response about 90% of the time.\n",
    "\n",
    "In practice, this means marketing can confidently rank and prioritize customers based on their likelihood to subscribe.  \n",
    "\n",
    "**summary**\n",
    "- The logistic model is excellent at identifying customers who are likely to say yes — ideal for reducing wasted outreach and focusing efforts on the right audience."
   ]
  },
  {
   "cell_type": "markdown",
   "id": "e096e085",
   "metadata": {},
   "source": [
    "**Cross-Validated ROC/AUC**"
   ]
  },
  {
   "cell_type": "code",
   "execution_count": 161,
   "id": "c9547ac1",
   "metadata": {},
   "outputs": [
    {
     "name": "stdout",
     "output_type": "stream",
     "text": [
      "CV ROC AUC: 0.901767972887279\n"
     ]
    }
   ],
   "source": [
    "from sklearn.model_selection import StratifiedKFold, cross_val_score\n",
    "\n",
    "cv = StratifiedKFold(n_splits=5, shuffle=True, random_state=42)\n",
    "cv_scores = cross_val_score(model, x_test_processed, y_test, cv=cv, scoring='roc_auc')\n",
    "print(\"CV ROC AUC:\", cv_scores.mean())"
   ]
  },
  {
   "cell_type": "markdown",
   "id": "5b43b5b6",
   "metadata": {},
   "source": [
    "- **Cross-Validated ROC AUC:** 0.902  \n",
    "  The average ROC AUC across cross-validation folds is 0.902, which confirms the model's strong and consistent ability to distinguish between subscribers and non-subscribers across different subsets of the data.\n",
    "\n",
    "The high cross-validated ROC AUC indicates that the model generalizes well and is not overfitting to a specific training set. This strengthens confidence in deploying the logistic model for real-world prediction.\n"
   ]
  },
  {
   "cell_type": "markdown",
   "id": "8dc9b5aa",
   "metadata": {},
   "source": [
    "**DecisionTree Classifier Model**"
   ]
  },
  {
   "cell_type": "code",
   "execution_count": 162,
   "id": "feb0b46b",
   "metadata": {},
   "outputs": [
    {
     "name": "stdout",
     "output_type": "stream",
     "text": [
      "Accuracy tree: 0.8715718077263345\n",
      "Precision tree: 0.4636363636363636\n",
      "Recall tree: 0.574468085106383\n",
      "F1 Score tree: 0.5131358300726663\n",
      "ROC AUC tree: 0.8219955236122707\n"
     ]
    }
   ],
   "source": [
    "# Probabilities for ROC/AUC using  decision tree model\n",
    "y_proba = tree_model.predict_proba(x_test_processed)[:, 1]\n",
    "\n",
    "\n",
    "print(\"Accuracy tree:\", accuracy_score(y_test, y_pred_tree))\n",
    "print(\"Precision tree:\", precision_score(y_test, y_pred_tree))\n",
    "print(\"Recall tree:\", recall_score(y_test, y_pred_tree))\n",
    "print(\"F1 Score tree:\", f1_score(y_test, y_pred_tree))\n",
    "print(\"ROC AUC tree:\", roc_auc_score(y_test, y_proba))\n"
   ]
  },
  {
   "cell_type": "markdown",
   "id": "b61b1111",
   "metadata": {},
   "source": [
    "- **Accuracy:** 87.2%  \n",
    "  The model correctly classifies 87.2% of the observations, slightly outperforming the logistic regression model in overall accuracy.\n",
    "\n",
    "- **Precision:** 46.4%  \n",
    "  Among clients predicted to subscribe, 46.4% actually did. This shows a slight improvement in precision over the logistic model, meaning fewer false positives.\n",
    "\n",
    "- **Recall (Sensitivity):** 57.4%  \n",
    "  The model identifies 57.4% of actual subscribers. This is notably lower than the logistic model's recall, indicating more missed positive cases.\n",
    "\n",
    "- **F1 Score:** 0.513  \n",
    "  The F1 score reflects the balance between precision and recall. While lower than logistic regression, it shows the model performs moderately well on both aspects.\n",
    "  \n",
    "- **ROC AUC:** 0.822  \n",
    "  The model's ability to separate subscribers from non-subscribers is good, though not as strong as the logistic regression model (ROC AUC of 0.897).\n",
    "\n",
    "The Decision Tree model achieves higher accuracy and precision, making it more conservative by reducing false positives. However, it sacrifices recall, missing more actual subscribers. This model may be preferred in scenarios where it's more important to avoid unnecessary marketing calls than to capture every potential subscriber.\n"
   ]
  },
  {
   "cell_type": "markdown",
   "id": "8485167b",
   "metadata": {},
   "source": [
    "**Plot the ROC Curve using the DecisionTree Model**"
   ]
  },
  {
   "cell_type": "code",
   "execution_count": 163,
   "id": "a79b2439",
   "metadata": {},
   "outputs": [
    {
     "data": {
      "image/png": "[encoded data removed]",
      "text/plain": [
       "<Figure size 800x500 with 1 Axes>"
      ]
     },
     "metadata": {},
     "output_type": "display_data"
    }
   ],
   "source": [
    "#plotting the ROC/AUC for decision tree model\n",
    "fpr, tpr, _ = roc_curve(y_test, y_proba)\n",
    "\n",
    "plt.figure(figsize=(8, 5))\n",
    "plt.plot(fpr, tpr, color='darkorange', label='ROC Curve (AUC = {:.2f})'.format(roc_auc_score(y_test, y_proba)))\n",
    "plt.plot([0, 1], [0, 1], 'k--')\n",
    "plt.xlabel('False Positive Rate')\n",
    "plt.ylabel('True Positive Rate')\n",
    "plt.title('ROC Curve - Decision Tree')\n",
    "plt.legend()\n",
    "plt.grid()\n",
    "plt.show()"
   ]
  },
  {
   "cell_type": "markdown",
   "id": "d4dab6cd",
   "metadata": {},
   "source": [
    "-  Score: ~0.82\n",
    "\n",
    "- This is still a good model, though not as strong as logistic regression.\n",
    "\n",
    "- It’s simpler and easier to visualize, which can help with transparency and rule-based decisions.  \n",
    "\n",
    "**summary**\n",
    "- The tree model performs well but slightly less accurately. However, it’s easier to explain and could be used to build rules or automated systems for campaign targeting."
   ]
  },
  {
   "cell_type": "markdown",
   "id": "69f9e866",
   "metadata": {},
   "source": [
    "**Using the odds-ratios from statsmodel to visualize the features with the highest likelihood of subscribing**"
   ]
  },
  {
   "cell_type": "code",
   "execution_count": 164,
   "id": "11b7cd5e",
   "metadata": {},
   "outputs": [
    {
     "data": {
      "image/png": "[encoded data removed]",
      "text/plain": [
       "<Figure size 1000x400 with 1 Axes>"
      ]
     },
     "metadata": {},
     "output_type": "display_data"
    }
   ],
   "source": [
    "# Get top 10 positive predictors\n",
    "top_10_positive = odds_ratios[odds_ratios > 1].sort_values(ascending=False).head(10)\n",
    "\n",
    "# Plot with annotations\n",
    "ax = top_10_positive.plot(kind='barh', figsize=(10,4), \n",
    "                         title='Top 10 Features Increasing Subscription Odds')\n",
    "plt.xlabel('Odds Ratio (Higher = More Likely to Subscribe)')\n",
    "\n",
    "# Add value labels\n",
    "for i, v in enumerate(top_10_positive):\n",
    "    ax.text(v + 0.05, i, f\"{v:.2f}\", color='black', va='center')\n",
    "\n",
    "plt.tight_layout()\n",
    "plt.show()"
   ]
  },
  {
   "cell_type": "markdown",
   "id": "ae0fe25a",
   "metadata": {},
   "source": [
    "- These are the most influential features with odds ratios significantly greater than 1:\n",
    "\n",
    "    * Outcome of Previous Campaign – Success: Customers who previously said \"yes\" are 9.6 times more likely to subscribe again.\n",
    "\n",
    "    * Contact Month – March, October, September: Customers contacted in these months are 2–3.7 times more likely to convert.\n",
    "\n",
    "    * Previous Contact History: Clients who were previously contacted are over 3 times more likely to subscribe.\n",
    "\n",
    "    * Longer Call Duration: Each increase in standardized call duration is associated with almost 3 times higher odds of subscription.\n",
    "\n",
    "    * Weekend Contact: Calls on Saturdays or Sundays increase conversion odds by 2.3 times.\n",
    "\n",
    "- Factors That Decrease Likelihood:\n",
    "(Not shown here but typically includes months like May, short duration, or no prior contact history)"
   ]
  },
  {
   "cell_type": "markdown",
   "id": "61400a10",
   "metadata": {},
   "source": [
    "**Tree Feature Importance** "
   ]
  },
  {
   "cell_type": "code",
   "execution_count": 165,
   "id": "dea10d84",
   "metadata": {},
   "outputs": [
    {
     "data": {
      "text/html": [
       "<div>\n",
       "<style scoped>\n",
       "    .dataframe tbody tr th:only-of-type {\n",
       "        vertical-align: middle;\n",
       "    }\n",
       "\n",
       "    .dataframe tbody tr th {\n",
       "        vertical-align: top;\n",
       "    }\n",
       "\n",
       "    .dataframe thead th {\n",
       "        text-align: right;\n",
       "    }\n",
       "</style>\n",
       "<table border=\"1\" class=\"dataframe\">\n",
       "  <thead>\n",
       "    <tr style=\"text-align: right;\">\n",
       "      <th></th>\n",
       "      <th>Feature</th>\n",
       "      <th>Importance</th>\n",
       "    </tr>\n",
       "  </thead>\n",
       "  <tbody>\n",
       "    <tr>\n",
       "      <th>7</th>\n",
       "      <td>duration_scaled</td>\n",
       "      <td>0.759351</td>\n",
       "    </tr>\n",
       "    <tr>\n",
       "      <th>43</th>\n",
       "      <td>poutcome_success</td>\n",
       "      <td>0.240649</td>\n",
       "    </tr>\n",
       "    <tr>\n",
       "      <th>0</th>\n",
       "      <td>previous</td>\n",
       "      <td>0.000000</td>\n",
       "    </tr>\n",
       "    <tr>\n",
       "      <th>33</th>\n",
       "      <td>month_nov</td>\n",
       "      <td>0.000000</td>\n",
       "    </tr>\n",
       "    <tr>\n",
       "      <th>25</th>\n",
       "      <td>month_aug</td>\n",
       "      <td>0.000000</td>\n",
       "    </tr>\n",
       "  </tbody>\n",
       "</table>\n",
       "</div>"
      ],
      "text/plain": [
       "             Feature  Importance\n",
       "7    duration_scaled    0.759351\n",
       "43  poutcome_success    0.240649\n",
       "0           previous    0.000000\n",
       "33         month_nov    0.000000\n",
       "25         month_aug    0.000000"
      ]
     },
     "execution_count": 165,
     "metadata": {},
     "output_type": "execute_result"
    }
   ],
   "source": [
    "tree_importance_df = pd.DataFrame({\n",
    "    'Feature': x_train_processed.columns,\n",
    "    'Importance': tree_model.feature_importances_\n",
    "}).sort_values(by='Importance', ascending=False)\n",
    "\n",
    "tree_importance_df.head()\n"
   ]
  },
  {
   "cell_type": "markdown",
   "id": "2732171a",
   "metadata": {},
   "source": [
    "- **`duration`** is by far the most influential feature, contributing about **76%** to the decision-making process. This aligns with expectations, as call duration is a strong indicator of subscription.\n",
    "- **`poutcome`** also plays a significant role (24%), indicating that a successful previous campaign outcome greatly increases the likelihood of subscription. \n",
    "\n",
    "Focus future model improvements and business strategies on the top two features"
   ]
  },
  {
   "cell_type": "markdown",
   "id": "8bd7a4c8",
   "metadata": {},
   "source": [
    "## Conclusions "
   ]
  },
  {
   "cell_type": "markdown",
   "id": "d7ac4048",
   "metadata": {},
   "source": [
    "\n",
    "**1. Prior Engagement and Call Duration Are Powerful Predictors of Success**\n",
    "- The model revealed that clients who had been contacted before and those who engage in longer conversations are substantially more likely to subscribe. These two factors alone   \n",
    "  significantly improve the odds of a positive outcome. \n",
    " \n",
    "**2. Campaign Timing Greatly Affects Subscription Rates** \n",
    "- Subscription success is not evenly distributed across months or days. March, September, October, and weekends show considerably higher conversion rates, indicating that when a  \n",
    "  client is contacted matters almost as much as who is contacted.\n",
    "  \n",
    "**3. The Classification Model Can Enhance Targeting and Reduce Waste**\n",
    "- With an ROC AUC of ~0.90, the logistic regression model is highly capable of distinguishing likely subscribers from non-subscribers, offering a valuable tool to improve campaign  \n",
    "  efficiency by reducing unnecessary contacts and focusing on high-probability leads.\n",
    "\n",
    "\n"
   ]
  },
  {
   "cell_type": "markdown",
   "id": "9de38644",
   "metadata": {},
   "source": [
    "## Recommendations "
   ]
  },
  {
   "cell_type": "markdown",
   "id": "a3178b6c",
   "metadata": {},
   "source": [
    "**1. Prioritize Follow-ups with Previously Contacted Clients**\n",
    "- Clients who were previously contacted are over 3 times more likely to subscribe to a term deposit. This suggests familiarity or prior interest increases success.  \n",
    "  Focus campaign efforts on individuals with a contact history — even if they previously said \"no\" — and tailor messaging to build on prior interactions. \n",
    "\n",
    "**2. Align Campaign Timing with High-Performing Months**\n",
    "- Conversions are significantly higher in March, September, October, and December, with March showing the highest subscription rate (52%).  \n",
    "  Concentrate outreach and budget allocation during these high-performing months, and reduce or avoid campaigns during low-performing ones like May and July.\n",
    "\n",
    "**3. Use Call Duration as a Real-Time Quality Signal**\n",
    "- Call duration strongly correlates with positive outcomes. For example, calls lasting over 600 seconds have nearly 50–60% success rates, while ultra-short calls almost never convert.  \n",
    "  Monitor call duration as a live KPI. If a call crosses a certain threshold (e.g., 300 seconds), escalate for deeper engagement or prioritize for follow-up.\n"
   ]
  },
  {
   "cell_type": "markdown",
   "id": "cf1a4e5c",
   "metadata": {},
   "source": [
    "  \n",
    "\n",
    "\n",
    "\n",
    "  \n",
    "\n",
    "                                     **The end😎**"
   ]
  },
  {
   "cell_type": "markdown",
   "id": "65d9030e",
   "metadata": {},
   "source": []
  }
 ],
 "metadata": {
  "kernelspec": {
   "display_name": "Python (learn-env)",
   "language": "python",
   "name": "learn-env"
  },
  "language_info": {
   "codemirror_mode": {
    "name": "ipython",
    "version": 3
   },
   "file_extension": ".py",
   "mimetype": "text/x-python",
   "name": "python",
   "nbconvert_exporter": "python",
   "pygments_lexer": "ipython3",
   "version": "3.9.21"
  }
 },
 "nbformat": 4,
 "nbformat_minor": 5
}
